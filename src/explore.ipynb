{
 "cells": [
  {
   "cell_type": "markdown",
   "metadata": {},
   "source": [
    "## Data exploration"
   ]
  },
  {
   "cell_type": "markdown",
   "metadata": {},
   "source": [
    "#### Andalusian Hotels Reviews\n",
    "https://www.kaggle.com/datasets/chizhikchi/andalusian-hotels-reviews-unbalanced?select=Big_AHR.csv"
   ]
  },
  {
   "cell_type": "code",
   "execution_count": 1,
   "metadata": {},
   "outputs": [],
   "source": [
    "%%capture\n",
    "!pip install -r requirements.txt"
   ]
  },
  {
   "cell_type": "code",
   "execution_count": 2,
   "metadata": {},
   "outputs": [],
   "source": [
    "import pandas as pd\n",
    "import numpy as np\n",
    "import matplotlib.pyplot as plt\n",
    "import seaborn as sns"
   ]
  },
  {
   "cell_type": "code",
   "execution_count": 4,
   "metadata": {},
   "outputs": [],
   "source": [
    "df_raw = pd.read_csv('../data/raw/Big_AHR.csv')"
   ]
  },
  {
   "cell_type": "code",
   "execution_count": 4,
   "metadata": {},
   "outputs": [
    {
     "name": "stdout",
     "output_type": "stream",
     "text": [
      "<class 'pandas.core.frame.DataFrame'>\n",
      "RangeIndex: 18172 entries, 0 to 18171\n",
      "Data columns (total 7 columns):\n",
      " #   Column       Non-Null Count  Dtype \n",
      "---  ------       --------------  ----- \n",
      " 0   Unnamed: 0   18172 non-null  int64 \n",
      " 1   title        18172 non-null  object\n",
      " 2   rating       18172 non-null  int64 \n",
      " 3   review_text  18172 non-null  object\n",
      " 4   location     16356 non-null  object\n",
      " 5   hotel        16356 non-null  object\n",
      " 6   label        18172 non-null  int64 \n",
      "dtypes: int64(3), object(4)\n",
      "memory usage: 993.9+ KB\n"
     ]
    }
   ],
   "source": [
    "df_raw.info()"
   ]
  },
  {
   "cell_type": "code",
   "execution_count": 5,
   "metadata": {},
   "outputs": [
    {
     "data": {
      "text/html": [
       "<div>\n",
       "<style scoped>\n",
       "    .dataframe tbody tr th:only-of-type {\n",
       "        vertical-align: middle;\n",
       "    }\n",
       "\n",
       "    .dataframe tbody tr th {\n",
       "        vertical-align: top;\n",
       "    }\n",
       "\n",
       "    .dataframe thead th {\n",
       "        text-align: right;\n",
       "    }\n",
       "</style>\n",
       "<table border=\"1\" class=\"dataframe\">\n",
       "  <thead>\n",
       "    <tr style=\"text-align: right;\">\n",
       "      <th></th>\n",
       "      <th>Unnamed: 0</th>\n",
       "      <th>rating</th>\n",
       "      <th>label</th>\n",
       "    </tr>\n",
       "  </thead>\n",
       "  <tbody>\n",
       "    <tr>\n",
       "      <th>count</th>\n",
       "      <td>18172.000000</td>\n",
       "      <td>18172.000000</td>\n",
       "      <td>18172.000000</td>\n",
       "    </tr>\n",
       "    <tr>\n",
       "      <th>mean</th>\n",
       "      <td>9085.500000</td>\n",
       "      <td>3.984151</td>\n",
       "      <td>1.103291</td>\n",
       "    </tr>\n",
       "    <tr>\n",
       "      <th>std</th>\n",
       "      <td>5245.948881</td>\n",
       "      <td>1.292239</td>\n",
       "      <td>0.798061</td>\n",
       "    </tr>\n",
       "    <tr>\n",
       "      <th>min</th>\n",
       "      <td>0.000000</td>\n",
       "      <td>1.000000</td>\n",
       "      <td>0.000000</td>\n",
       "    </tr>\n",
       "    <tr>\n",
       "      <th>25%</th>\n",
       "      <td>4542.750000</td>\n",
       "      <td>3.000000</td>\n",
       "      <td>1.000000</td>\n",
       "    </tr>\n",
       "    <tr>\n",
       "      <th>50%</th>\n",
       "      <td>9085.500000</td>\n",
       "      <td>4.000000</td>\n",
       "      <td>1.000000</td>\n",
       "    </tr>\n",
       "    <tr>\n",
       "      <th>75%</th>\n",
       "      <td>13628.250000</td>\n",
       "      <td>5.000000</td>\n",
       "      <td>1.000000</td>\n",
       "    </tr>\n",
       "    <tr>\n",
       "      <th>max</th>\n",
       "      <td>18171.000000</td>\n",
       "      <td>5.000000</td>\n",
       "      <td>3.000000</td>\n",
       "    </tr>\n",
       "  </tbody>\n",
       "</table>\n",
       "</div>"
      ],
      "text/plain": [
       "         Unnamed: 0        rating         label\n",
       "count  18172.000000  18172.000000  18172.000000\n",
       "mean    9085.500000      3.984151      1.103291\n",
       "std     5245.948881      1.292239      0.798061\n",
       "min        0.000000      1.000000      0.000000\n",
       "25%     4542.750000      3.000000      1.000000\n",
       "50%     9085.500000      4.000000      1.000000\n",
       "75%    13628.250000      5.000000      1.000000\n",
       "max    18171.000000      5.000000      3.000000"
      ]
     },
     "execution_count": 5,
     "metadata": {},
     "output_type": "execute_result"
    }
   ],
   "source": [
    "df_raw.describe()"
   ]
  },
  {
   "cell_type": "code",
   "execution_count": 30,
   "metadata": {},
   "outputs": [
    {
     "data": {
      "text/html": [
       "<div>\n",
       "<style scoped>\n",
       "    .dataframe tbody tr th:only-of-type {\n",
       "        vertical-align: middle;\n",
       "    }\n",
       "\n",
       "    .dataframe tbody tr th {\n",
       "        vertical-align: top;\n",
       "    }\n",
       "\n",
       "    .dataframe thead th {\n",
       "        text-align: right;\n",
       "    }\n",
       "</style>\n",
       "<table border=\"1\" class=\"dataframe\">\n",
       "  <thead>\n",
       "    <tr style=\"text-align: right;\">\n",
       "      <th></th>\n",
       "      <th>Unnamed: 0</th>\n",
       "      <th>title</th>\n",
       "      <th>rating</th>\n",
       "      <th>review_text</th>\n",
       "      <th>location</th>\n",
       "      <th>hotel</th>\n",
       "      <th>label</th>\n",
       "    </tr>\n",
       "  </thead>\n",
       "  <tbody>\n",
       "    <tr>\n",
       "      <th>12087</th>\n",
       "      <td>12087</td>\n",
       "      <td>genial</td>\n",
       "      <td>5</td>\n",
       "      <td>La estancia fue muy agradable, el personal súp...</td>\n",
       "      <td>Cordoba_Province_of_Cordoba_Andalucia</td>\n",
       "      <td>Albergue_Juvenil_de_Cordoba</td>\n",
       "      <td>1</td>\n",
       "    </tr>\n",
       "    <tr>\n",
       "      <th>1581</th>\n",
       "      <td>1581</td>\n",
       "      <td>Buena situación</td>\n",
       "      <td>4</td>\n",
       "      <td>La ubicación es magnifica, puedes ir andando a...</td>\n",
       "      <td>Seville_Province_of_Seville_Andalucia</td>\n",
       "      <td>Petit_Palace_Canalejas_Sevilla</td>\n",
       "      <td>1</td>\n",
       "    </tr>\n",
       "  </tbody>\n",
       "</table>\n",
       "</div>"
      ],
      "text/plain": [
       "       Unnamed: 0            title  rating  \\\n",
       "12087       12087           genial       5   \n",
       "1581         1581  Buena situación       4   \n",
       "\n",
       "                                             review_text  \\\n",
       "12087  La estancia fue muy agradable, el personal súp...   \n",
       "1581   La ubicación es magnifica, puedes ir andando a...   \n",
       "\n",
       "                                    location                           hotel  \\\n",
       "12087  Cordoba_Province_of_Cordoba_Andalucia     Albergue_Juvenil_de_Cordoba   \n",
       "1581   Seville_Province_of_Seville_Andalucia  Petit_Palace_Canalejas_Sevilla   \n",
       "\n",
       "       label  \n",
       "12087      1  \n",
       "1581       1  "
      ]
     },
     "execution_count": 30,
     "metadata": {},
     "output_type": "execute_result"
    }
   ],
   "source": [
    "df_raw.sample(2)"
   ]
  },
  {
   "cell_type": "code",
   "execution_count": 5,
   "metadata": {},
   "outputs": [],
   "source": [
    "df = df_raw.copy()"
   ]
  },
  {
   "cell_type": "code",
   "execution_count": 6,
   "metadata": {},
   "outputs": [],
   "source": [
    "df = df.drop(columns=['Unnamed: 0'])"
   ]
  },
  {
   "cell_type": "code",
   "execution_count": 7,
   "metadata": {},
   "outputs": [],
   "source": [
    "df = df.fillna('Unknown')\n",
    "df = df.replace('nan', 'Unknown')"
   ]
  },
  {
   "cell_type": "markdown",
   "metadata": {},
   "source": [
    "##### Location (provinces)"
   ]
  },
  {
   "cell_type": "code",
   "execution_count": 8,
   "metadata": {},
   "outputs": [],
   "source": [
    "def province(text):\n",
    "    provinces = ['Almeria', 'Granada', 'Malaga', 'Jaen', 'Cordoba', 'Seville', 'Cadiz', 'Huelva']\n",
    "    for province in provinces:\n",
    "        if province in text:\n",
    "            prov = province\n",
    "            break\n",
    "        else:\n",
    "            prov = 'Unknown'\n",
    "    return prov"
   ]
  },
  {
   "cell_type": "code",
   "execution_count": 9,
   "metadata": {},
   "outputs": [],
   "source": [
    "df['province'] = df['location'].apply(province)"
   ]
  },
  {
   "cell_type": "code",
   "execution_count": 9,
   "metadata": {},
   "outputs": [
    {
     "data": {
      "text/plain": [
       "Granada    3666\n",
       "Seville    3420\n",
       "Cordoba    3298\n",
       "Malaga     2982\n",
       "Unknown    1876\n",
       "Jaen       1274\n",
       "Almeria    1091\n",
       "Huelva      545\n",
       "Cadiz        20\n",
       "Name: province, dtype: int64"
      ]
     },
     "execution_count": 9,
     "metadata": {},
     "output_type": "execute_result"
    }
   ],
   "source": [
    "df['province'].value_counts()"
   ]
  },
  {
   "cell_type": "code",
   "execution_count": 10,
   "metadata": {},
   "outputs": [],
   "source": [
    "dict_provinces = dict(df['province'].value_counts())\n",
    "provinces = list(dict_provinces.keys())\n",
    "hotel_count = list(dict_provinces.values())"
   ]
  },
  {
   "cell_type": "code",
   "execution_count": 11,
   "metadata": {},
   "outputs": [],
   "source": [
    "df_provinces = pd.DataFrame({'province':provinces, 'hotel_count':hotel_count})"
   ]
  },
  {
   "cell_type": "code",
   "execution_count": 12,
   "metadata": {},
   "outputs": [
    {
     "data": {
      "image/png": "[encoded data removed]",
      "text/plain": [
       "<Figure size 576x288 with 1 Axes>"
      ]
     },
     "metadata": {
      "needs_background": "light"
     },
     "output_type": "display_data"
    }
   ],
   "source": [
    "plt.figure(figsize=(8,4))\n",
    "sns.barplot(data=df_provinces, x='province', y='hotel_count')\n",
    "plt.title('Location of the hotels')\n",
    "plt.show()"
   ]
  },
  {
   "cell_type": "markdown",
   "metadata": {},
   "source": [
    "##### Rating given by Tripadvisor users (1 to 5 stars)"
   ]
  },
  {
   "cell_type": "code",
   "execution_count": 13,
   "metadata": {},
   "outputs": [
    {
     "data": {
      "image/png": "[encoded data removed]",
      "text/plain": [
       "<Figure size 288x288 with 1 Axes>"
      ]
     },
     "metadata": {
      "needs_background": "light"
     },
     "output_type": "display_data"
    }
   ],
   "source": [
    "rating = sns.displot(data=df, x='rating', discrete=True)\n",
    "rating.fig.set_size_inches(4,4)\n",
    "plt.title('Distribution of rating given by Tripadvisor users')\n",
    "plt.show()"
   ]
  },
  {
   "cell_type": "markdown",
   "metadata": {},
   "source": [
    "##### Top 6 hotels with most reviews"
   ]
  },
  {
   "cell_type": "code",
   "execution_count": 14,
   "metadata": {},
   "outputs": [
    {
     "data": {
      "text/plain": [
       "Unknown                                              1816\n",
       "Carmen_de_Ramilla                                     120\n",
       "Apartamentos_Mauror                                   100\n",
       "Hotel_Xauen                                            80\n",
       "Hotel_Infanta_Cristina                                 80\n",
       "                                                     ... \n",
       "Paraiso_De_Magina                                       4\n",
       "Ecosmart_Apartments_Granada                             4\n",
       "La_Esperanza_Granada                                    3\n",
       "Finca_El_Juncal                                         3\n",
       "Radisson_Collection_Hotel_Magdalena_Plaza_Sevilla       3\n",
       "Name: hotel, Length: 716, dtype: int64"
      ]
     },
     "execution_count": 14,
     "metadata": {},
     "output_type": "execute_result"
    }
   ],
   "source": [
    "df['hotel'].value_counts()"
   ]
  },
  {
   "cell_type": "code",
   "execution_count": 15,
   "metadata": {},
   "outputs": [],
   "source": [
    "dict_rating = dict(df_raw['hotel'].value_counts())\n",
    "hotel = list(dict_rating.keys())\n",
    "review_count = list(dict_rating.values())"
   ]
  },
  {
   "cell_type": "code",
   "execution_count": 16,
   "metadata": {},
   "outputs": [],
   "source": [
    "df_rating = pd.DataFrame({'hotel':hotel, 'review_count':review_count}).head(6)"
   ]
  },
  {
   "cell_type": "code",
   "execution_count": 17,
   "metadata": {},
   "outputs": [
    {
     "data": {
      "image/png": "[encoded data removed]",
      "text/plain": [
       "<Figure size 1008x288 with 1 Axes>"
      ]
     },
     "metadata": {
      "needs_background": "light"
     },
     "output_type": "display_data"
    }
   ],
   "source": [
    "plt.figure(figsize=(14,4))\n",
    "sns.barplot(data=df_rating, x='hotel', y='review_count')\n",
    "plt.title('Top 6 hotels with most reviews')\n",
    "plt.show()"
   ]
  },
  {
   "cell_type": "markdown",
   "metadata": {},
   "source": [
    "##### Rating given by Tripadvisor users (1 to 5 stars) - Top 6 hotels with most reviews"
   ]
  },
  {
   "cell_type": "code",
   "execution_count": 11,
   "metadata": {},
   "outputs": [],
   "source": [
    "top_hoteles = pd.DataFrame(df_raw['hotel'].value_counts()).head(6).to_dict()['hotel']"
   ]
  },
  {
   "cell_type": "code",
   "execution_count": 12,
   "metadata": {},
   "outputs": [
    {
     "data": {
      "text/plain": [
       "{'Carmen_de_Ramilla': 120,\n",
       " 'Apartamentos_Mauror': 100,\n",
       " 'Hotel_Ho_Ciudad_de_Jaen': 80,\n",
       " 'Hotel_Xauen': 80,\n",
       " 'La_Almunia_del_Valle': 80,\n",
       " 'Casa_Pino_Solo': 80}"
      ]
     },
     "execution_count": 12,
     "metadata": {},
     "output_type": "execute_result"
    }
   ],
   "source": [
    "top_hoteles"
   ]
  },
  {
   "cell_type": "code",
   "execution_count": 13,
   "metadata": {},
   "outputs": [],
   "source": [
    "lista_keys = list(top_hoteles.keys())"
   ]
  },
  {
   "cell_type": "code",
   "execution_count": 14,
   "metadata": {},
   "outputs": [
    {
     "data": {
      "text/plain": [
       "['Carmen_de_Ramilla',\n",
       " 'Apartamentos_Mauror',\n",
       " 'Hotel_Ho_Ciudad_de_Jaen',\n",
       " 'Hotel_Xauen',\n",
       " 'La_Almunia_del_Valle',\n",
       " 'Casa_Pino_Solo']"
      ]
     },
     "execution_count": 14,
     "metadata": {},
     "output_type": "execute_result"
    }
   ],
   "source": [
    "lista_keys"
   ]
  },
  {
   "cell_type": "code",
   "execution_count": 25,
   "metadata": {},
   "outputs": [
    {
     "data": {
      "image/png": "[encoded data removed]",
      "text/plain": [
       "<Figure size 1200x600 with 6 Axes>"
      ]
     },
     "metadata": {},
     "output_type": "display_data"
    }
   ],
   "source": [
    "fig, ax = plt.subplots(2, 3, sharex=True, sharey=True, figsize=(12,6))\n",
    "ax = ax.flatten()\n",
    "fig.suptitle('Rating given by Tripadvisor users (1 to 5 stars) - Top 6 hotels with most reviews')\n",
    "for i in range(len(lista_keys)):\n",
    "    ax[i].set_title(lista_keys[i])\n",
    "    hotel = lista_keys[i]\n",
    "    rating = sns.histplot(data=df[df['hotel']==hotel], x='rating', discrete=True, ax=ax[i])\n",
    "plt.show()"
   ]
  },
  {
   "cell_type": "markdown",
   "metadata": {},
   "source": [
    "##### Distribution of number of reviews"
   ]
  },
  {
   "cell_type": "code",
   "execution_count": 21,
   "metadata": {},
   "outputs": [
    {
     "data": {
      "text/plain": [
       "Carmen_de_Ramilla                                    120\n",
       "Apartamentos_Mauror                                  100\n",
       "Hotel_Ho_Ciudad_de_Jaen                               80\n",
       "Hotel_Xauen                                           80\n",
       "La_Almunia_del_Valle                                  80\n",
       "                                                    ... \n",
       "Nixar                                                  4\n",
       "Apartamentos_Turisticos_Vista_Alhambra                 4\n",
       "La_Esperanza_Granada                                   3\n",
       "Finca_El_Juncal                                        3\n",
       "Radisson_Collection_Hotel_Magdalena_Plaza_Sevilla      3\n",
       "Name: hotel, Length: 715, dtype: int64"
      ]
     },
     "execution_count": 21,
     "metadata": {},
     "output_type": "execute_result"
    }
   ],
   "source": [
    "df_raw['hotel'].value_counts()"
   ]
  },
  {
   "cell_type": "code",
   "execution_count": 22,
   "metadata": {},
   "outputs": [
    {
     "data": {
      "image/png": "[encoded data removed]",
      "text/plain": [
       "<Figure size 432x288 with 1 Axes>"
      ]
     },
     "metadata": {
      "needs_background": "light"
     },
     "output_type": "display_data"
    }
   ],
   "source": [
    "plt.figure(figsize=(6, 4))\n",
    "plt.hist(df_raw['hotel'].value_counts(), bins=6)\n",
    "plt.title('Histogram of number of reviews')\n",
    "plt.xlabel('Number of reviews')\n",
    "plt.ylabel('Hotel count')\n",
    "plt.show()"
   ]
  },
  {
   "cell_type": "markdown",
   "metadata": {},
   "source": [
    "##### Save csv with columns rating, hotel and location"
   ]
  },
  {
   "cell_type": "code",
   "execution_count": 25,
   "metadata": {},
   "outputs": [],
   "source": [
    "df_pbi = df.drop(columns=['title', 'review_text', 'location', 'label'])"
   ]
  },
  {
   "cell_type": "code",
   "execution_count": 26,
   "metadata": {},
   "outputs": [],
   "source": [
    "df_pbi.to_csv('data/processed/pbi.csv')"
   ]
  }
 ],
 "metadata": {
  "kernelspec": {
   "display_name": "Python 3.8.13 64-bit ('3.8.13')",
   "language": "python",
   "name": "python3"
  },
  "language_info": {
   "codemirror_mode": {
    "name": "ipython",
    "version": 3
   },
   "file_extension": ".py",
   "mimetype": "text/x-python",
   "name": "python",
   "nbconvert_exporter": "python",
   "pygments_lexer": "ipython3",
   "version": "3.8.13"
  },
  "orig_nbformat": 4,
  "vscode": {
   "interpreter": {
    "hash": "110cc1dee26208153f2972f08a2ad52b6a56238dc66d48e87fb757ef2996db56"
   }
  }
 },
 "nbformat": 4,
 "nbformat_minor": 2
}
