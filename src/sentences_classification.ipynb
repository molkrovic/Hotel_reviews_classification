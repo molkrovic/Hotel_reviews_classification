{
 "cells": [
  {
   "cell_type": "markdown",
   "metadata": {},
   "source": [
    "### **Positive and negative sentence classification model in 2, 3 and 4 star review comments**"
   ]
  },
  {
   "cell_type": "code",
   "execution_count": 1,
   "metadata": {},
   "outputs": [],
   "source": [
    "%%capture\n",
    "!pip install -r ../requirements.txt"
   ]
  },
  {
   "cell_type": "code",
   "execution_count": 2,
   "metadata": {},
   "outputs": [],
   "source": [
    "import pandas as pd\n",
    "import numpy as np\n",
    "import matplotlib.pyplot as plt\n",
    "import seaborn as sns\n",
    "import plotly.express as px\n",
    "import unicodedata\n",
    "import fasttext\n",
    "import re\n",
    "import nltk\n",
    "import pickle\n",
    "from wordcloud import WordCloud\n",
    "from nltk.corpus import stopwords\n",
    "from nltk.tokenize import word_tokenize\n",
    "from nltk.cluster.util import cosine_distance\n",
    "from sklearn.cluster import KMeans\n",
    "from sklearn.decomposition import PCA\n",
    "from sklearn.model_selection import train_test_split\n",
    "from sklearn import model_selection, svm\n",
    "from sklearn.svm import SVC\n",
    "from sklearn.metrics import silhouette_score, classification_report, accuracy_score, confusion_matrix, ConfusionMatrixDisplay\n",
    "from sklearn.pipeline import Pipeline\n",
    "from sklearn.compose import ColumnTransformer\n",
    "from sklearn.feature_extraction.text import TfidfTransformer, CountVectorizer"
   ]
  },
  {
   "cell_type": "code",
   "execution_count": 3,
   "metadata": {},
   "outputs": [],
   "source": [
    "df_raw = pd.read_csv('../data/raw/Big_AHR.csv')"
   ]
  },
  {
   "cell_type": "code",
   "execution_count": 4,
   "metadata": {},
   "outputs": [],
   "source": [
    "df_3_stars = df_raw[df_raw['rating']==3]"
   ]
  },
  {
   "cell_type": "code",
   "execution_count": 15,
   "metadata": {},
   "outputs": [
    {
     "name": "stdout",
     "output_type": "stream",
     "text": [
      "Está bien situado, aunque las calles de alrededor son muy sucias...por la noche se oía ruido de la calle. Tuvimos bichos en la habitación, aunque el personal fumigó y nos ofreció el cambio la situación fue algo desagradable. Aun así, tiene buen precio y buen desayuno (merece la pena cogerlo).\n",
      "\n",
      "La ubicación es perfecta, entra el acceso a la Alcazaba y la Catedral. Puedes recorrer todo el centro e ir a la playa de la Malagueta y la zona del MuelleUno andando. El parking está a escasos metros y el acceso al mismo y las plazas son correctos. La habitación daba a un patio interior y era tranquila. El hotel está algo antiguo, pero cumple para una estancia de ciudad. Alrededor hay muchos establecimientos para desayunar, comer y cenar.\n",
      "\n",
      "La posada Doña Lupe se puede ver de muchas maneras. No es un lugar para estarse en las habitaciones, ya que éstas sólo sirven para dormir y gracias. Está poco cuidado (faltaban muchas bombetas, por ejemplo) y se podría decir que la limpieza era la justa. Aún así, nuestra estancia fué buena grácias a la piscina que nos salvaba las horas de calor. Para visitar Granada se puede ir andando al centro (unos 15 minutos) o en los buses 3 y 33 que suben cada minuto a la puerta de la Alhambra, a unos 20 metros de la posada Doña Lupe. Hay servicio gratuïto de Internet (un ordenador en el vestíbulo) y los encargados son simpáticos.\n",
      "\n",
      "\n",
      "Precio acorde a la habitación.  Cama cómoda y gente agradable. Las paredes de papel, oyes todo lo de las habitaciones de al lado,  el desayuno bueno, pero el restaurante es tan pequeño que te chocas con la gente. Parking cubierto y barato 6€\n",
      "\n",
      "En viaje de Luna de Miel nos encontramos con que el hotel de \"4 estrellas\" no tiene cama matrimonial. No es que no tenía disponible ehh, simplemente no tiene!!!. Te juntan dos hermosos sommiers súper cómodos, pero cada uno con su ropa de cama, por lo cual es la peor opción para viaje de novios. Otro menos diez es el desayuno, teníamos incluído desayuno continental, en el hotel Monjas del Carmen el desayuno continental es un mozo que te pregunta que querés tomár y si preferís Pan Tostado o \"Bollería\". Trajo un pan tostado con un café con leche, y nos podíamos servir manteca, mermelada o paté de la deplorable mesita de autoservicio. Olvidate de un verdadero desayuno. En la habitación el aire está fijo en frío o calor y a los grados que ellos quieren. Estuve un día de calor aplastante y el aire estaba en calor, no se podía hacer nada hasta que viniera el técnico. Me recomendaron \"abrir las ventanas\".\n",
      "\n",
      "\n"
     ]
    }
   ],
   "source": [
    "for text in df_3_stars['review_text'].sample(5).tolist():\n",
    "    print(text)\n",
    "    print()"
   ]
  },
  {
   "cell_type": "markdown",
   "metadata": {},
   "source": [
    "In this sample of neutral reviews, it can be seen that the comments highlight both positive and negative aspects.\n",
    "Therefore, each comment will be separated into sentences, with the aim of being classified as positive or negative."
   ]
  },
  {
   "cell_type": "markdown",
   "metadata": {},
   "source": [
    "The division of each comment into sentences and the text processing was done *using create_df_sentences.py*"
   ]
  },
  {
   "cell_type": "code",
   "execution_count": 3,
   "metadata": {},
   "outputs": [],
   "source": [
    "df_sentences_1_star = pd.read_csv('../data/interim/sentences_1_star.csv')\n",
    "df_sentences_5_stars = pd.read_csv('../data/interim/sentences_5_stars.csv')"
   ]
  },
  {
   "cell_type": "markdown",
   "metadata": {},
   "source": [
    "All sentences belonging to 5-star reviews will be assumed to be positive, and all sentences belonging to 1-star reviews will be assumed to be negative. While this is not strictly true, it will allow the model to be built."
   ]
  },
  {
   "cell_type": "code",
   "execution_count": 6,
   "metadata": {},
   "outputs": [
    {
     "data": {
      "text/plain": [
       "11885"
      ]
     },
     "execution_count": 6,
     "metadata": {},
     "output_type": "execute_result"
    }
   ],
   "source": [
    "len(df_sentences_1_star)"
   ]
  },
  {
   "cell_type": "code",
   "execution_count": 7,
   "metadata": {},
   "outputs": [
    {
     "data": {
      "text/plain": [
       "53205"
      ]
     },
     "execution_count": 7,
     "metadata": {},
     "output_type": "execute_result"
    }
   ],
   "source": [
    "len(df_sentences_5_stars)"
   ]
  },
  {
   "cell_type": "code",
   "execution_count": 8,
   "metadata": {},
   "outputs": [],
   "source": [
    "# Take a sample of positive sentences to equate both categories\n",
    "df_sentences_5_stars = df_sentences_5_stars.sample(len(df_sentences_1_star))"
   ]
  },
  {
   "cell_type": "code",
   "execution_count": 9,
   "metadata": {},
   "outputs": [
    {
     "name": "stdout",
     "output_type": "stream",
     "text": [
      "Examples of negative sentences:\n"
     ]
    },
    {
     "data": {
      "text/html": [
       "<div>\n",
       "<style scoped>\n",
       "    .dataframe tbody tr th:only-of-type {\n",
       "        vertical-align: middle;\n",
       "    }\n",
       "\n",
       "    .dataframe tbody tr th {\n",
       "        vertical-align: top;\n",
       "    }\n",
       "\n",
       "    .dataframe thead th {\n",
       "        text-align: right;\n",
       "    }\n",
       "</style>\n",
       "<table border=\"1\" class=\"dataframe\">\n",
       "  <thead>\n",
       "    <tr style=\"text-align: right;\">\n",
       "      <th></th>\n",
       "      <th>text</th>\n",
       "      <th>review_index</th>\n",
       "      <th>text_processed</th>\n",
       "    </tr>\n",
       "  </thead>\n",
       "  <tbody>\n",
       "    <tr>\n",
       "      <th>8647</th>\n",
       "      <td>Simplemente querían cobrar un extra a lo pacta...</td>\n",
       "      <td>1_1292</td>\n",
       "      <td>simplemente querian cobrar extra pactado trave...</td>\n",
       "    </tr>\n",
       "    <tr>\n",
       "      <th>11682</th>\n",
       "      <td>Tanto recorte me parece una verguenza, apagar ...</td>\n",
       "      <td>1_1647</td>\n",
       "      <td>recorte parece verguenza apagar aire acondicio...</td>\n",
       "    </tr>\n",
       "    <tr>\n",
       "      <th>11123</th>\n",
       "      <td>Limpieza de las habitaciones la minima, camas ...</td>\n",
       "      <td>1_1578</td>\n",
       "      <td>limpieza habitaciones minima camas estrechas</td>\n",
       "    </tr>\n",
       "  </tbody>\n",
       "</table>\n",
       "</div>"
      ],
      "text/plain": [
       "                                                    text review_index  \\\n",
       "8647   Simplemente querían cobrar un extra a lo pacta...       1_1292   \n",
       "11682  Tanto recorte me parece una verguenza, apagar ...       1_1647   \n",
       "11123  Limpieza de las habitaciones la minima, camas ...       1_1578   \n",
       "\n",
       "                                          text_processed  \n",
       "8647   simplemente querian cobrar extra pactado trave...  \n",
       "11682  recorte parece verguenza apagar aire acondicio...  \n",
       "11123       limpieza habitaciones minima camas estrechas  "
      ]
     },
     "execution_count": 9,
     "metadata": {},
     "output_type": "execute_result"
    }
   ],
   "source": [
    "print('Examples of negative sentences:')\n",
    "df_sentences_1_star.sample(3)"
   ]
  },
  {
   "cell_type": "code",
   "execution_count": 10,
   "metadata": {},
   "outputs": [
    {
     "name": "stdout",
     "output_type": "stream",
     "text": [
      "Examples of positive sentences:\n"
     ]
    },
    {
     "data": {
      "text/html": [
       "<div>\n",
       "<style scoped>\n",
       "    .dataframe tbody tr th:only-of-type {\n",
       "        vertical-align: middle;\n",
       "    }\n",
       "\n",
       "    .dataframe tbody tr th {\n",
       "        vertical-align: top;\n",
       "    }\n",
       "\n",
       "    .dataframe thead th {\n",
       "        text-align: right;\n",
       "    }\n",
       "</style>\n",
       "<table border=\"1\" class=\"dataframe\">\n",
       "  <thead>\n",
       "    <tr style=\"text-align: right;\">\n",
       "      <th></th>\n",
       "      <th>text</th>\n",
       "      <th>review_index</th>\n",
       "      <th>text_processed</th>\n",
       "    </tr>\n",
       "  </thead>\n",
       "  <tbody>\n",
       "    <tr>\n",
       "      <th>15211</th>\n",
       "      <td>Buen hotel Urbano, incluso con una pequeña pis...</td>\n",
       "      <td>5_2687</td>\n",
       "      <td>buen urbano incluso pequena piscina refrescarse</td>\n",
       "    </tr>\n",
       "    <tr>\n",
       "      <th>11037</th>\n",
       "      <td>A pocos metros de las atracciones de Malaga, s...</td>\n",
       "      <td>5_1966</td>\n",
       "      <td>pocos metros atracciones malaga encuentra remo...</td>\n",
       "    </tr>\n",
       "    <tr>\n",
       "      <th>10587</th>\n",
       "      <td>Viaje por trabajo, el hotel está bien ubicado ...</td>\n",
       "      <td>5_1893</td>\n",
       "      <td>viaje trabajo bien ubicado confort excepcional</td>\n",
       "    </tr>\n",
       "  </tbody>\n",
       "</table>\n",
       "</div>"
      ],
      "text/plain": [
       "                                                    text review_index  \\\n",
       "15211  Buen hotel Urbano, incluso con una pequeña pis...       5_2687   \n",
       "11037  A pocos metros de las atracciones de Malaga, s...       5_1966   \n",
       "10587  Viaje por trabajo, el hotel está bien ubicado ...       5_1893   \n",
       "\n",
       "                                          text_processed  \n",
       "15211    buen urbano incluso pequena piscina refrescarse  \n",
       "11037  pocos metros atracciones malaga encuentra remo...  \n",
       "10587     viaje trabajo bien ubicado confort excepcional  "
      ]
     },
     "execution_count": 10,
     "metadata": {},
     "output_type": "execute_result"
    }
   ],
   "source": [
    "print('Examples of positive sentences:')\n",
    "df_sentences_5_stars.sample(3)"
   ]
  },
  {
   "cell_type": "code",
   "execution_count": 4,
   "metadata": {},
   "outputs": [],
   "source": [
    "# Add column to indicate sentiment\n",
    "df_sentences_1_star['label'] = 'Negative'\n",
    "df_sentences_5_stars['label'] = 'Positive'"
   ]
  },
  {
   "cell_type": "code",
   "execution_count": 12,
   "metadata": {},
   "outputs": [],
   "source": [
    "# Combine positive and negative sentences into one df\n",
    "df_sentences_labeled = pd.concat([df_sentences_1_star, df_sentences_5_stars]).reset_index(drop=True)"
   ]
  },
  {
   "cell_type": "code",
   "execution_count": 13,
   "metadata": {},
   "outputs": [],
   "source": [
    "df_sentences_labeled['label'] = df_sentences_labeled['label'].astype('category')"
   ]
  },
  {
   "cell_type": "code",
   "execution_count": 14,
   "metadata": {},
   "outputs": [],
   "source": [
    "# Delete empty rows\n",
    "df_clean = df_sentences_labeled[df_sentences_labeled.text_processed.notna()]"
   ]
  },
  {
   "cell_type": "markdown",
   "metadata": {},
   "source": [
    "##### **Training and evaluation of the model for sentences classification**"
   ]
  },
  {
   "cell_type": "code",
   "execution_count": 15,
   "metadata": {},
   "outputs": [],
   "source": [
    "X = df_clean['text_processed']\n",
    "y = df_clean['label']"
   ]
  },
  {
   "cell_type": "code",
   "execution_count": 16,
   "metadata": {},
   "outputs": [],
   "source": [
    "X_train, X_val, y_train, y_val = train_test_split(X, y, stratify=y, random_state=18)"
   ]
  },
  {
   "cell_type": "code",
   "execution_count": 17,
   "metadata": {},
   "outputs": [],
   "source": [
    "classifier = Pipeline([\n",
    "    ('count_vectorizer', CountVectorizer(max_features=1000, ngram_range=(1,2))),\n",
    "    ('tfidf', TfidfTransformer()),\n",
    "    ('model', SVC(kernel='rbf', probability=True))\n",
    "])"
   ]
  },
  {
   "cell_type": "code",
   "execution_count": 18,
   "metadata": {},
   "outputs": [
    {
     "data": {
      "text/html": [
       "<style>#sk-container-id-1 {color: black;background-color: white;}#sk-container-id-1 pre{padding: 0;}#sk-container-id-1 div.sk-toggleable {background-color: white;}#sk-container-id-1 label.sk-toggleable__label {cursor: pointer;display: block;width: 100%;margin-bottom: 0;padding: 0.3em;box-sizing: border-box;text-align: center;}#sk-container-id-1 label.sk-toggleable__label-arrow:before {content: \"▸\";float: left;margin-right: 0.25em;color: #696969;}#sk-container-id-1 label.sk-toggleable__label-arrow:hover:before {color: black;}#sk-container-id-1 div.sk-estimator:hover label.sk-toggleable__label-arrow:before {color: black;}#sk-container-id-1 div.sk-toggleable__content {max-height: 0;max-width: 0;overflow: hidden;text-align: left;background-color: #f0f8ff;}#sk-container-id-1 div.sk-toggleable__content pre {margin: 0.2em;color: black;border-radius: 0.25em;background-color: #f0f8ff;}#sk-container-id-1 input.sk-toggleable__control:checked~div.sk-toggleable__content {max-height: 200px;max-width: 100%;overflow: auto;}#sk-container-id-1 input.sk-toggleable__control:checked~label.sk-toggleable__label-arrow:before {content: \"▾\";}#sk-container-id-1 div.sk-estimator input.sk-toggleable__control:checked~label.sk-toggleable__label {background-color: #d4ebff;}#sk-container-id-1 div.sk-label input.sk-toggleable__control:checked~label.sk-toggleable__label {background-color: #d4ebff;}#sk-container-id-1 input.sk-hidden--visually {border: 0;clip: rect(1px 1px 1px 1px);clip: rect(1px, 1px, 1px, 1px);height: 1px;margin: -1px;overflow: hidden;padding: 0;position: absolute;width: 1px;}#sk-container-id-1 div.sk-estimator {font-family: monospace;background-color: #f0f8ff;border: 1px dotted black;border-radius: 0.25em;box-sizing: border-box;margin-bottom: 0.5em;}#sk-container-id-1 div.sk-estimator:hover {background-color: #d4ebff;}#sk-container-id-1 div.sk-parallel-item::after {content: \"\";width: 100%;border-bottom: 1px solid gray;flex-grow: 1;}#sk-container-id-1 div.sk-label:hover label.sk-toggleable__label {background-color: #d4ebff;}#sk-container-id-1 div.sk-serial::before {content: \"\";position: absolute;border-left: 1px solid gray;box-sizing: border-box;top: 0;bottom: 0;left: 50%;z-index: 0;}#sk-container-id-1 div.sk-serial {display: flex;flex-direction: column;align-items: center;background-color: white;padding-right: 0.2em;padding-left: 0.2em;position: relative;}#sk-container-id-1 div.sk-item {position: relative;z-index: 1;}#sk-container-id-1 div.sk-parallel {display: flex;align-items: stretch;justify-content: center;background-color: white;position: relative;}#sk-container-id-1 div.sk-item::before, #sk-container-id-1 div.sk-parallel-item::before {content: \"\";position: absolute;border-left: 1px solid gray;box-sizing: border-box;top: 0;bottom: 0;left: 50%;z-index: -1;}#sk-container-id-1 div.sk-parallel-item {display: flex;flex-direction: column;z-index: 1;position: relative;background-color: white;}#sk-container-id-1 div.sk-parallel-item:first-child::after {align-self: flex-end;width: 50%;}#sk-container-id-1 div.sk-parallel-item:last-child::after {align-self: flex-start;width: 50%;}#sk-container-id-1 div.sk-parallel-item:only-child::after {width: 0;}#sk-container-id-1 div.sk-dashed-wrapped {border: 1px dashed gray;margin: 0 0.4em 0.5em 0.4em;box-sizing: border-box;padding-bottom: 0.4em;background-color: white;}#sk-container-id-1 div.sk-label label {font-family: monospace;font-weight: bold;display: inline-block;line-height: 1.2em;}#sk-container-id-1 div.sk-label-container {text-align: center;}#sk-container-id-1 div.sk-container {/* jupyter's `normalize.less` sets `[hidden] { display: none; }` but bootstrap.min.css set `[hidden] { display: none !important; }` so we also need the `!important` here to be able to override the default hidden behavior on the sphinx rendered scikit-learn.org. See: https://github.com/scikit-learn/scikit-learn/issues/21755 */display: inline-block !important;position: relative;}#sk-container-id-1 div.sk-text-repr-fallback {display: none;}</style><div id=\"sk-container-id-1\" class=\"sk-top-container\"><div class=\"sk-text-repr-fallback\"><pre>Pipeline(steps=[(&#x27;count_vectorizer&#x27;,\n",
       "                 CountVectorizer(max_features=1000, ngram_range=(1, 2))),\n",
       "                (&#x27;tfidf&#x27;, TfidfTransformer()),\n",
       "                (&#x27;model&#x27;, SVC(probability=True))])</pre><b>In a Jupyter environment, please rerun this cell to show the HTML representation or trust the notebook. <br />On GitHub, the HTML representation is unable to render, please try loading this page with nbviewer.org.</b></div><div class=\"sk-container\" hidden><div class=\"sk-item sk-dashed-wrapped\"><div class=\"sk-label-container\"><div class=\"sk-label sk-toggleable\"><input class=\"sk-toggleable__control sk-hidden--visually\" id=\"sk-estimator-id-1\" type=\"checkbox\" ><label for=\"sk-estimator-id-1\" class=\"sk-toggleable__label sk-toggleable__label-arrow\">Pipeline</label><div class=\"sk-toggleable__content\"><pre>Pipeline(steps=[(&#x27;count_vectorizer&#x27;,\n",
       "                 CountVectorizer(max_features=1000, ngram_range=(1, 2))),\n",
       "                (&#x27;tfidf&#x27;, TfidfTransformer()),\n",
       "                (&#x27;model&#x27;, SVC(probability=True))])</pre></div></div></div><div class=\"sk-serial\"><div class=\"sk-item\"><div class=\"sk-estimator sk-toggleable\"><input class=\"sk-toggleable__control sk-hidden--visually\" id=\"sk-estimator-id-2\" type=\"checkbox\" ><label for=\"sk-estimator-id-2\" class=\"sk-toggleable__label sk-toggleable__label-arrow\">CountVectorizer</label><div class=\"sk-toggleable__content\"><pre>CountVectorizer(max_features=1000, ngram_range=(1, 2))</pre></div></div></div><div class=\"sk-item\"><div class=\"sk-estimator sk-toggleable\"><input class=\"sk-toggleable__control sk-hidden--visually\" id=\"sk-estimator-id-3\" type=\"checkbox\" ><label for=\"sk-estimator-id-3\" class=\"sk-toggleable__label sk-toggleable__label-arrow\">TfidfTransformer</label><div class=\"sk-toggleable__content\"><pre>TfidfTransformer()</pre></div></div></div><div class=\"sk-item\"><div class=\"sk-estimator sk-toggleable\"><input class=\"sk-toggleable__control sk-hidden--visually\" id=\"sk-estimator-id-4\" type=\"checkbox\" ><label for=\"sk-estimator-id-4\" class=\"sk-toggleable__label sk-toggleable__label-arrow\">SVC</label><div class=\"sk-toggleable__content\"><pre>SVC(probability=True)</pre></div></div></div></div></div></div></div>"
      ],
      "text/plain": [
       "Pipeline(steps=[('count_vectorizer',\n",
       "                 CountVectorizer(max_features=1000, ngram_range=(1, 2))),\n",
       "                ('tfidf', TfidfTransformer()),\n",
       "                ('model', SVC(probability=True))])"
      ]
     },
     "execution_count": 18,
     "metadata": {},
     "output_type": "execute_result"
    }
   ],
   "source": [
    "classifier.fit(X_train, y_train)"
   ]
  },
  {
   "cell_type": "code",
   "execution_count": 19,
   "metadata": {},
   "outputs": [],
   "source": [
    "y_pred = classifier.predict(X_val)"
   ]
  },
  {
   "cell_type": "code",
   "execution_count": 20,
   "metadata": {},
   "outputs": [
    {
     "data": {
      "text/plain": [
       "0.9325753719101759"
      ]
     },
     "execution_count": 20,
     "metadata": {},
     "output_type": "execute_result"
    }
   ],
   "source": [
    "classifier.score(X_train, y_train)"
   ]
  },
  {
   "cell_type": "code",
   "execution_count": 21,
   "metadata": {},
   "outputs": [
    {
     "name": "stdout",
     "output_type": "stream",
     "text": [
      "              precision    recall  f1-score   support\n",
      "\n",
      "    Negative       0.85      0.89      0.87      2935\n",
      "    Positive       0.89      0.84      0.86      2958\n",
      "\n",
      "    accuracy                           0.87      5893\n",
      "   macro avg       0.87      0.87      0.87      5893\n",
      "weighted avg       0.87      0.87      0.87      5893\n",
      "\n"
     ]
    }
   ],
   "source": [
    "print(classification_report(y_val, y_pred))"
   ]
  },
  {
   "cell_type": "code",
   "execution_count": 22,
   "metadata": {},
   "outputs": [
    {
     "data": {
      "image/png": "[encoded data removed]",
      "text/plain": [
       "<Figure size 432x288 with 2 Axes>"
      ]
     },
     "metadata": {
      "needs_background": "light"
     },
     "output_type": "display_data"
    }
   ],
   "source": [
    "cm = confusion_matrix(y_val, y_pred, labels=classifier.classes_)\n",
    "disp = ConfusionMatrixDisplay(confusion_matrix=cm, display_labels=classifier.classes_)\n",
    "disp.plot()\n",
    "plt.show()"
   ]
  },
  {
   "cell_type": "code",
   "execution_count": 23,
   "metadata": {},
   "outputs": [],
   "source": [
    "# Save model\n",
    "filename = '../models/sentences_classification.pkl'\n",
    "pickle.dump(classifier, open(filename,'wb'))"
   ]
  },
  {
   "cell_type": "code",
   "execution_count": 3,
   "metadata": {},
   "outputs": [],
   "source": [
    "# Load model\n",
    "classifier = pickle.load(open('../models/sentences_classification.pkl', 'rb'))"
   ]
  },
  {
   "cell_type": "markdown",
   "metadata": {},
   "source": [
    "##### **Application of the model to sentences corresponding to 2-star reviews**"
   ]
  },
  {
   "cell_type": "code",
   "execution_count": 4,
   "metadata": {},
   "outputs": [],
   "source": [
    "df_sentences_2_stars = pd.read_csv('../data/interim/sentences_2_stars.csv')"
   ]
  },
  {
   "cell_type": "code",
   "execution_count": 5,
   "metadata": {},
   "outputs": [],
   "source": [
    "df_2_stars = df_sentences_2_stars[df_sentences_2_stars.text_processed.notna()]\n",
    "X_2_stars = df_2_stars['text_processed']\n",
    "y_2_stars = classifier.predict(X_2_stars)\n",
    "df_y_2_stars = pd.DataFrame({'label':y_2_stars})\n",
    "predictions_2_stars = pd.concat([df_2_stars, df_y_2_stars], axis=1).reset_index(drop=True)\n"
   ]
  },
  {
   "cell_type": "code",
   "execution_count": 18,
   "metadata": {},
   "outputs": [
    {
     "data": {
      "text/html": [
       "<div>\n",
       "<style scoped>\n",
       "    .dataframe tbody tr th:only-of-type {\n",
       "        vertical-align: middle;\n",
       "    }\n",
       "\n",
       "    .dataframe tbody tr th {\n",
       "        vertical-align: top;\n",
       "    }\n",
       "\n",
       "    .dataframe thead th {\n",
       "        text-align: right;\n",
       "    }\n",
       "</style>\n",
       "<table border=\"1\" class=\"dataframe\">\n",
       "  <thead>\n",
       "    <tr style=\"text-align: right;\">\n",
       "      <th></th>\n",
       "      <th>text</th>\n",
       "      <th>review_index</th>\n",
       "      <th>text_processed</th>\n",
       "      <th>label</th>\n",
       "    </tr>\n",
       "  </thead>\n",
       "  <tbody>\n",
       "    <tr>\n",
       "      <th>5849</th>\n",
       "      <td>Un mal hostal en una buena situación</td>\n",
       "      <td>2_835</td>\n",
       "      <td>mal hostal buena situacion</td>\n",
       "      <td>Negative</td>\n",
       "    </tr>\n",
       "    <tr>\n",
       "      <th>5283</th>\n",
       "      <td>Las paredes de la habitacion necesitan una man...</td>\n",
       "      <td>2_773</td>\n",
       "      <td>paredes habitacion necesitan mano pintura bast...</td>\n",
       "      <td>Negative</td>\n",
       "    </tr>\n",
       "    <tr>\n",
       "      <th>1071</th>\n",
       "      <td>Y es que a través del sistema de ventilación s...</td>\n",
       "      <td>2_158</td>\n",
       "      <td>traves sistema ventilacion cuela humo tabaco h...</td>\n",
       "      <td>Negative</td>\n",
       "    </tr>\n",
       "    <tr>\n",
       "      <th>926</th>\n",
       "      <td>Injusta relación Calidad - precio</td>\n",
       "      <td>2_136</td>\n",
       "      <td>injusta relacion calidad precio</td>\n",
       "      <td>Positive</td>\n",
       "    </tr>\n",
       "    <tr>\n",
       "      <th>3888</th>\n",
       "      <td>A favor la ubicación del hostal que se encuent...</td>\n",
       "      <td>2_567</td>\n",
       "      <td>favor ubicacion hostal encuentra escasos dos k...</td>\n",
       "      <td>Positive</td>\n",
       "    </tr>\n",
       "  </tbody>\n",
       "</table>\n",
       "</div>"
      ],
      "text/plain": [
       "                                                   text review_index  \\\n",
       "5849               Un mal hostal en una buena situación        2_835   \n",
       "5283  Las paredes de la habitacion necesitan una man...        2_773   \n",
       "1071  Y es que a través del sistema de ventilación s...        2_158   \n",
       "926                  Injusta relación Calidad - precio         2_136   \n",
       "3888  A favor la ubicación del hostal que se encuent...        2_567   \n",
       "\n",
       "                                         text_processed     label  \n",
       "5849                         mal hostal buena situacion  Negative  \n",
       "5283  paredes habitacion necesitan mano pintura bast...  Negative  \n",
       "1071  traves sistema ventilacion cuela humo tabaco h...  Negative  \n",
       "926                     injusta relacion calidad precio  Positive  \n",
       "3888  favor ubicacion hostal encuentra escasos dos k...  Positive  "
      ]
     },
     "execution_count": 18,
     "metadata": {},
     "output_type": "execute_result"
    }
   ],
   "source": [
    "predictions_2_stars.sample(5)"
   ]
  },
  {
   "cell_type": "code",
   "execution_count": 6,
   "metadata": {},
   "outputs": [
    {
     "data": {
      "text/plain": [
       "Negative    5404\n",
       "Positive    1779\n",
       "Name: label, dtype: int64"
      ]
     },
     "execution_count": 6,
     "metadata": {},
     "output_type": "execute_result"
    }
   ],
   "source": [
    "predictions_2_stars.label.value_counts()"
   ]
  },
  {
   "cell_type": "code",
   "execution_count": 20,
   "metadata": {},
   "outputs": [
    {
     "name": "stdout",
     "output_type": "stream",
     "text": [
      "Predicted percentage of negative sentences: 75%\n",
      "Predicted percentage of positive sentences: 25%\n"
     ]
    }
   ],
   "source": [
    "print(f'Predicted percentage of negative sentences: {round((100*5404)/(5404+1779))}%')\n",
    "print(f'Predicted percentage of positive sentences: {round((100*1779)/(5404+1779))}%')"
   ]
  },
  {
   "cell_type": "markdown",
   "metadata": {},
   "source": [
    "##### **Application of the model to sentences corresponding to 3-star reviews**"
   ]
  },
  {
   "cell_type": "code",
   "execution_count": 31,
   "metadata": {},
   "outputs": [],
   "source": [
    "df_sentences_3_stars = pd.read_csv('../data/interim/sentences_3_stars.csv')"
   ]
  },
  {
   "cell_type": "code",
   "execution_count": 32,
   "metadata": {},
   "outputs": [],
   "source": [
    "df_3_stars = df_sentences_3_stars[df_sentences_3_stars.text_processed.notna()]\n",
    "X_3_stars = df_3_stars['text_processed']\n",
    "y_3_stars = classifier.predict(X_3_stars)\n",
    "df_y_3_stars = pd.DataFrame({'label':y_3_stars})\n",
    "predictions_3_stars = pd.concat([df_3_stars, df_y_3_stars], axis=1).reset_index(drop=True)"
   ]
  },
  {
   "cell_type": "code",
   "execution_count": 40,
   "metadata": {},
   "outputs": [
    {
     "data": {
      "text/html": [
       "<div>\n",
       "<style scoped>\n",
       "    .dataframe tbody tr th:only-of-type {\n",
       "        vertical-align: middle;\n",
       "    }\n",
       "\n",
       "    .dataframe tbody tr th {\n",
       "        vertical-align: top;\n",
       "    }\n",
       "\n",
       "    .dataframe thead th {\n",
       "        text-align: right;\n",
       "    }\n",
       "</style>\n",
       "<table border=\"1\" class=\"dataframe\">\n",
       "  <thead>\n",
       "    <tr style=\"text-align: right;\">\n",
       "      <th></th>\n",
       "      <th>text</th>\n",
       "      <th>review_index</th>\n",
       "      <th>text_processed</th>\n",
       "      <th>label</th>\n",
       "    </tr>\n",
       "  </thead>\n",
       "  <tbody>\n",
       "    <tr>\n",
       "      <th>1147</th>\n",
       "      <td>Imposible dormir, mal aisladas las habitacione...</td>\n",
       "      <td>3_191</td>\n",
       "      <td>imposible dormir mal aisladas habitaciones ven...</td>\n",
       "      <td>Negative</td>\n",
       "    </tr>\n",
       "    <tr>\n",
       "      <th>7371</th>\n",
       "      <td>Ubicación extraordinaria pero falta de honesti...</td>\n",
       "      <td>3_1198</td>\n",
       "      <td>ubicacion extraordinaria falta honestidad publ...</td>\n",
       "      <td>Negative</td>\n",
       "    </tr>\n",
       "    <tr>\n",
       "      <th>13431</th>\n",
       "      <td>La ubicación del hotel no es céntrica, hay que...</td>\n",
       "      <td>3_2096</td>\n",
       "      <td>ubicacion no centrica ir plaza donante sangre ...</td>\n",
       "      <td>Negative</td>\n",
       "    </tr>\n",
       "    <tr>\n",
       "      <th>12461</th>\n",
       "      <td>Acabamos de llegar del hotel</td>\n",
       "      <td>3_1990</td>\n",
       "      <td>acabamos llegar</td>\n",
       "      <td>Positive</td>\n",
       "    </tr>\n",
       "    <tr>\n",
       "      <th>11975</th>\n",
       "      <td>La limpieza no es la mejor</td>\n",
       "      <td>3_1919</td>\n",
       "      <td>limpieza no mejor</td>\n",
       "      <td>Negative</td>\n",
       "    </tr>\n",
       "  </tbody>\n",
       "</table>\n",
       "</div>"
      ],
      "text/plain": [
       "                                                    text review_index  \\\n",
       "1147   Imposible dormir, mal aisladas las habitacione...        3_191   \n",
       "7371   Ubicación extraordinaria pero falta de honesti...       3_1198   \n",
       "13431  La ubicación del hotel no es céntrica, hay que...       3_2096   \n",
       "12461                       Acabamos de llegar del hotel       3_1990   \n",
       "11975                         La limpieza no es la mejor       3_1919   \n",
       "\n",
       "                                          text_processed     label  \n",
       "1147   imposible dormir mal aisladas habitaciones ven...  Negative  \n",
       "7371   ubicacion extraordinaria falta honestidad publ...  Negative  \n",
       "13431  ubicacion no centrica ir plaza donante sangre ...  Negative  \n",
       "12461                                    acabamos llegar  Positive  \n",
       "11975                                  limpieza no mejor  Negative  "
      ]
     },
     "execution_count": 40,
     "metadata": {},
     "output_type": "execute_result"
    }
   ],
   "source": [
    "predictions_3_stars.sample(5)"
   ]
  },
  {
   "cell_type": "code",
   "execution_count": 41,
   "metadata": {},
   "outputs": [
    {
     "data": {
      "text/plain": [
       "Negative    7448\n",
       "Positive    7294\n",
       "Name: label, dtype: int64"
      ]
     },
     "execution_count": 41,
     "metadata": {},
     "output_type": "execute_result"
    }
   ],
   "source": [
    "predictions_3_stars.label.value_counts()"
   ]
  },
  {
   "cell_type": "code",
   "execution_count": 42,
   "metadata": {},
   "outputs": [
    {
     "name": "stdout",
     "output_type": "stream",
     "text": [
      "Predicted percentage of negative sentences: 51%\n",
      "Predicted percentage of positive sentences: 49%\n"
     ]
    }
   ],
   "source": [
    "print(f'Predicted percentage of negative sentences: {round((100*7448)/(7448+7294))}%')\n",
    "print(f'Predicted percentage of positive sentences: {round((100*7294)/(7448+7294))}%')"
   ]
  },
  {
   "cell_type": "markdown",
   "metadata": {},
   "source": [
    "##### **Application of the model to sentences corresponding to 4-star reviews**"
   ]
  },
  {
   "cell_type": "code",
   "execution_count": 37,
   "metadata": {},
   "outputs": [],
   "source": [
    "df_sentences_4_stars = pd.read_csv('../data/interim/sentences_4_stars.csv')"
   ]
  },
  {
   "cell_type": "code",
   "execution_count": 38,
   "metadata": {},
   "outputs": [],
   "source": [
    "df_4_stars = df_sentences_4_stars[df_sentences_4_stars.text_processed.notna()]\n",
    "X_4_stars = df_4_stars['text_processed']\n",
    "y_4_stars = classifier.predict(X_4_stars)\n",
    "df_y_4_stars = pd.DataFrame({'label':y_4_stars})\n",
    "predictions_4_stars = pd.concat([df_4_stars, df_y_4_stars], axis=1).reset_index(drop=True)"
   ]
  },
  {
   "cell_type": "code",
   "execution_count": 45,
   "metadata": {},
   "outputs": [
    {
     "data": {
      "text/html": [
       "<div>\n",
       "<style scoped>\n",
       "    .dataframe tbody tr th:only-of-type {\n",
       "        vertical-align: middle;\n",
       "    }\n",
       "\n",
       "    .dataframe tbody tr th {\n",
       "        vertical-align: top;\n",
       "    }\n",
       "\n",
       "    .dataframe thead th {\n",
       "        text-align: right;\n",
       "    }\n",
       "</style>\n",
       "<table border=\"1\" class=\"dataframe\">\n",
       "  <thead>\n",
       "    <tr style=\"text-align: right;\">\n",
       "      <th></th>\n",
       "      <th>text</th>\n",
       "      <th>review_index</th>\n",
       "      <th>text_processed</th>\n",
       "      <th>label</th>\n",
       "    </tr>\n",
       "  </thead>\n",
       "  <tbody>\n",
       "    <tr>\n",
       "      <th>15093</th>\n",
       "      <td>El desayuno muy bien, camareros agradables y a...</td>\n",
       "      <td>4_2637</td>\n",
       "      <td>desayuno bien camareros agradables atentos ofr...</td>\n",
       "      <td>Positive</td>\n",
       "    </tr>\n",
       "    <tr>\n",
       "      <th>12605</th>\n",
       "      <td>Por otra parte, el desayuno de 10, por 3 euros...</td>\n",
       "      <td>4_2209</td>\n",
       "      <td>parte desayuno 10 3 euros aprox tostada impres...</td>\n",
       "      <td>Positive</td>\n",
       "    </tr>\n",
       "    <tr>\n",
       "      <th>11582</th>\n",
       "      <td>Desayuno completo</td>\n",
       "      <td>4_2022</td>\n",
       "      <td>desayuno completo</td>\n",
       "      <td>Positive</td>\n",
       "    </tr>\n",
       "    <tr>\n",
       "      <th>3387</th>\n",
       "      <td>Buena relación precio/calidad, el personal es ...</td>\n",
       "      <td>4_627</td>\n",
       "      <td>buena relacion precio calidad personal amable ...</td>\n",
       "      <td>Positive</td>\n",
       "    </tr>\n",
       "    <tr>\n",
       "      <th>12538</th>\n",
       "      <td>Limpieza</td>\n",
       "      <td>4_2196</td>\n",
       "      <td>limpieza</td>\n",
       "      <td>Positive</td>\n",
       "    </tr>\n",
       "  </tbody>\n",
       "</table>\n",
       "</div>"
      ],
      "text/plain": [
       "                                                    text review_index  \\\n",
       "15093  El desayuno muy bien, camareros agradables y a...       4_2637   \n",
       "12605  Por otra parte, el desayuno de 10, por 3 euros...       4_2209   \n",
       "11582                                  Desayuno completo       4_2022   \n",
       "3387   Buena relación precio/calidad, el personal es ...        4_627   \n",
       "12538                                           Limpieza       4_2196   \n",
       "\n",
       "                                          text_processed     label  \n",
       "15093  desayuno bien camareros agradables atentos ofr...  Positive  \n",
       "12605  parte desayuno 10 3 euros aprox tostada impres...  Positive  \n",
       "11582                                  desayuno completo  Positive  \n",
       "3387   buena relacion precio calidad personal amable ...  Positive  \n",
       "12538                                           limpieza  Positive  "
      ]
     },
     "execution_count": 45,
     "metadata": {},
     "output_type": "execute_result"
    }
   ],
   "source": [
    "predictions_4_stars.sample(5)"
   ]
  },
  {
   "cell_type": "code",
   "execution_count": 46,
   "metadata": {},
   "outputs": [
    {
     "data": {
      "text/plain": [
       "Positive    19024\n",
       "Negative     6191\n",
       "Name: label, dtype: int64"
      ]
     },
     "execution_count": 46,
     "metadata": {},
     "output_type": "execute_result"
    }
   ],
   "source": [
    "predictions_4_stars.label.value_counts()"
   ]
  },
  {
   "cell_type": "code",
   "execution_count": 2,
   "metadata": {},
   "outputs": [
    {
     "name": "stdout",
     "output_type": "stream",
     "text": [
      "Predicted percentage of negative sentences: 25%\n",
      "Predicted percentage of positive sentences: 75%\n"
     ]
    }
   ],
   "source": [
    "print(f'Predicted percentage of negative sentences: {round((100*6191)/(19024+6191))}%')\n",
    "print(f'Predicted percentage of positive sentences: {round((100*19024)/(19024+6191))}%')"
   ]
  },
  {
   "cell_type": "markdown",
   "metadata": {},
   "source": [
    "##### **Create datasets of positive and negative sentences**"
   ]
  },
  {
   "cell_type": "markdown",
   "metadata": {},
   "source": [
    "Negative sentences"
   ]
  },
  {
   "cell_type": "code",
   "execution_count": 56,
   "metadata": {},
   "outputs": [],
   "source": [
    "df_negative_sentences = pd.concat([df_sentences_1_star, predictions_2_stars[predictions_2_stars['label']=='Negative'], predictions_3_stars[predictions_3_stars['label']=='Negative'], predictions_4_stars[predictions_4_stars['label']=='Negative']])"
   ]
  },
  {
   "cell_type": "code",
   "execution_count": 57,
   "metadata": {},
   "outputs": [],
   "source": [
    "df_negative_sentences = df_negative_sentences[df_negative_sentences.text_processed.notna()]"
   ]
  },
  {
   "cell_type": "code",
   "execution_count": 59,
   "metadata": {},
   "outputs": [],
   "source": [
    "df_negative_sentences.to_csv('../data/processed/negative_sentences.csv')"
   ]
  },
  {
   "cell_type": "markdown",
   "metadata": {},
   "source": [
    "Positive sentences"
   ]
  },
  {
   "cell_type": "code",
   "execution_count": 60,
   "metadata": {},
   "outputs": [],
   "source": [
    "df_positive_sentences = pd.concat([df_sentences_5_stars, predictions_2_stars[predictions_2_stars['label']=='Positive'], predictions_3_stars[predictions_3_stars['label']=='Positive'], predictions_4_stars[predictions_4_stars['label']=='Positive']])"
   ]
  },
  {
   "cell_type": "code",
   "execution_count": 61,
   "metadata": {},
   "outputs": [],
   "source": [
    "df_positive_sentences = df_positive_sentences[df_positive_sentences.text_processed.notna()]"
   ]
  },
  {
   "cell_type": "code",
   "execution_count": 62,
   "metadata": {},
   "outputs": [],
   "source": [
    "df_positive_sentences.to_csv('../data/processed/positive_sentences.csv')"
   ]
  }
 ],
 "metadata": {
  "kernelspec": {
   "display_name": "Python 3.8.13 64-bit ('3.8.13')",
   "language": "python",
   "name": "python3"
  },
  "language_info": {
   "codemirror_mode": {
    "name": "ipython",
    "version": 3
   },
   "file_extension": ".py",
   "mimetype": "text/x-python",
   "name": "python",
   "nbconvert_exporter": "python",
   "pygments_lexer": "ipython3",
   "version": "3.8.13"
  },
  "orig_nbformat": 4,
  "vscode": {
   "interpreter": {
    "hash": "110cc1dee26208153f2972f08a2ad52b6a56238dc66d48e87fb757ef2996db56"
   }
  }
 },
 "nbformat": 4,
 "nbformat_minor": 2
}
