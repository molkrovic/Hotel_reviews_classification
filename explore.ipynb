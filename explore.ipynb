{
 "cells": [
  {
   "cell_type": "code",
   "execution_count": 1,
   "metadata": {},
   "outputs": [],
   "source": [
    "%%capture\n",
    "\n",
    "!pip install -r requirements.txt"
   ]
  },
  {
   "cell_type": "code",
   "execution_count": 2,
   "metadata": {},
   "outputs": [],
   "source": [
    "import pandas as pd"
   ]
  },
  {
   "cell_type": "code",
   "execution_count": 3,
   "metadata": {},
   "outputs": [],
   "source": [
    "df = pd.read_csv('Balanced_AHR.csv')"
   ]
  },
  {
   "cell_type": "code",
   "execution_count": 4,
   "metadata": {},
   "outputs": [
    {
     "name": "stdout",
     "output_type": "stream",
     "text": [
      "<class 'pandas.core.frame.DataFrame'>\n",
      "RangeIndex: 7615 entries, 0 to 7614\n",
      "Data columns (total 7 columns):\n",
      " #   Column       Non-Null Count  Dtype \n",
      "---  ------       --------------  ----- \n",
      " 0   Unnamed: 0   7615 non-null   int64 \n",
      " 1   title        7615 non-null   object\n",
      " 2   rating       7615 non-null   int64 \n",
      " 3   review_text  7615 non-null   object\n",
      " 4   location     6819 non-null   object\n",
      " 5   hotel        6819 non-null   object\n",
      " 6   label        7615 non-null   int64 \n",
      "dtypes: int64(3), object(4)\n",
      "memory usage: 416.6+ KB\n"
     ]
    }
   ],
   "source": [
    "df.info()"
   ]
  },
  {
   "cell_type": "code",
   "execution_count": 5,
   "metadata": {},
   "outputs": [
    {
     "data": {
      "text/html": [
       "<div>\n",
       "<style scoped>\n",
       "    .dataframe tbody tr th:only-of-type {\n",
       "        vertical-align: middle;\n",
       "    }\n",
       "\n",
       "    .dataframe tbody tr th {\n",
       "        vertical-align: top;\n",
       "    }\n",
       "\n",
       "    .dataframe thead th {\n",
       "        text-align: right;\n",
       "    }\n",
       "</style>\n",
       "<table border=\"1\" class=\"dataframe\">\n",
       "  <thead>\n",
       "    <tr style=\"text-align: right;\">\n",
       "      <th></th>\n",
       "      <th>Unnamed: 0</th>\n",
       "      <th>rating</th>\n",
       "      <th>label</th>\n",
       "    </tr>\n",
       "  </thead>\n",
       "  <tbody>\n",
       "    <tr>\n",
       "      <th>count</th>\n",
       "      <td>7615.000000</td>\n",
       "      <td>7615.000000</td>\n",
       "      <td>7615.000000</td>\n",
       "    </tr>\n",
       "    <tr>\n",
       "      <th>mean</th>\n",
       "      <td>3807.000000</td>\n",
       "      <td>3.130269</td>\n",
       "      <td>1.246487</td>\n",
       "    </tr>\n",
       "    <tr>\n",
       "      <th>std</th>\n",
       "      <td>2198.405483</td>\n",
       "      <td>1.548310</td>\n",
       "      <td>1.218474</td>\n",
       "    </tr>\n",
       "    <tr>\n",
       "      <th>min</th>\n",
       "      <td>0.000000</td>\n",
       "      <td>1.000000</td>\n",
       "      <td>0.000000</td>\n",
       "    </tr>\n",
       "    <tr>\n",
       "      <th>25%</th>\n",
       "      <td>1903.500000</td>\n",
       "      <td>2.000000</td>\n",
       "      <td>0.000000</td>\n",
       "    </tr>\n",
       "    <tr>\n",
       "      <th>50%</th>\n",
       "      <td>3807.000000</td>\n",
       "      <td>3.000000</td>\n",
       "      <td>1.000000</td>\n",
       "    </tr>\n",
       "    <tr>\n",
       "      <th>75%</th>\n",
       "      <td>5710.500000</td>\n",
       "      <td>5.000000</td>\n",
       "      <td>3.000000</td>\n",
       "    </tr>\n",
       "    <tr>\n",
       "      <th>max</th>\n",
       "      <td>7614.000000</td>\n",
       "      <td>5.000000</td>\n",
       "      <td>3.000000</td>\n",
       "    </tr>\n",
       "  </tbody>\n",
       "</table>\n",
       "</div>"
      ],
      "text/plain": [
       "        Unnamed: 0       rating        label\n",
       "count  7615.000000  7615.000000  7615.000000\n",
       "mean   3807.000000     3.130269     1.246487\n",
       "std    2198.405483     1.548310     1.218474\n",
       "min       0.000000     1.000000     0.000000\n",
       "25%    1903.500000     2.000000     0.000000\n",
       "50%    3807.000000     3.000000     1.000000\n",
       "75%    5710.500000     5.000000     3.000000\n",
       "max    7614.000000     5.000000     3.000000"
      ]
     },
     "execution_count": 5,
     "metadata": {},
     "output_type": "execute_result"
    }
   ],
   "source": [
    "df.describe()"
   ]
  },
  {
   "cell_type": "code",
   "execution_count": 6,
   "metadata": {},
   "outputs": [
    {
     "data": {
      "text/html": [
       "<div>\n",
       "<style scoped>\n",
       "    .dataframe tbody tr th:only-of-type {\n",
       "        vertical-align: middle;\n",
       "    }\n",
       "\n",
       "    .dataframe tbody tr th {\n",
       "        vertical-align: top;\n",
       "    }\n",
       "\n",
       "    .dataframe thead th {\n",
       "        text-align: right;\n",
       "    }\n",
       "</style>\n",
       "<table border=\"1\" class=\"dataframe\">\n",
       "  <thead>\n",
       "    <tr style=\"text-align: right;\">\n",
       "      <th></th>\n",
       "      <th>Unnamed: 0</th>\n",
       "      <th>title</th>\n",
       "      <th>rating</th>\n",
       "      <th>review_text</th>\n",
       "      <th>location</th>\n",
       "      <th>hotel</th>\n",
       "      <th>label</th>\n",
       "    </tr>\n",
       "  </thead>\n",
       "  <tbody>\n",
       "    <tr>\n",
       "      <th>5081</th>\n",
       "      <td>5081</td>\n",
       "      <td>Un hostel de 10</td>\n",
       "      <td>5</td>\n",
       "      <td>Estuve alojado en este hostel durante 3 noches...</td>\n",
       "      <td>Seville_Province_of_Seville_Andalucia</td>\n",
       "      <td>Black_Swan_Hostel_Sevilla</td>\n",
       "      <td>1</td>\n",
       "    </tr>\n",
       "    <tr>\n",
       "      <th>4807</th>\n",
       "      <td>4807</td>\n",
       "      <td>No es un 4 estrellas, ni creo que lo fuese alg...</td>\n",
       "      <td>2</td>\n",
       "      <td>Ruidoso, pésima insonorizacion, parking carisi...</td>\n",
       "      <td>NaN</td>\n",
       "      <td>NaN</td>\n",
       "      <td>0</td>\n",
       "    </tr>\n",
       "    <tr>\n",
       "      <th>6817</th>\n",
       "      <td>6817</td>\n",
       "      <td>2 noches de estadía</td>\n",
       "      <td>5</td>\n",
       "      <td>Excelente: personal servicial, personal amable...</td>\n",
       "      <td>Seville_Province_of_Seville_Andalucia</td>\n",
       "      <td>The_Corner_House</td>\n",
       "      <td>1</td>\n",
       "    </tr>\n",
       "    <tr>\n",
       "      <th>3291</th>\n",
       "      <td>3291</td>\n",
       "      <td>horible,precios altos</td>\n",
       "      <td>1</td>\n",
       "      <td>he tenido que limpiar yo el suelo ,holor mal e...</td>\n",
       "      <td>Almeria_Province_of_Almeria_Andalucia</td>\n",
       "      <td>Pension_Americano</td>\n",
       "      <td>0</td>\n",
       "    </tr>\n",
       "    <tr>\n",
       "      <th>1792</th>\n",
       "      <td>1792</td>\n",
       "      <td>BIEN UBICADO.BAÑO MALOLIENTE</td>\n",
       "      <td>2</td>\n",
       "      <td>La situación es buenísima, en el centro de la ...</td>\n",
       "      <td>Granada_Province_of_Granada_Andalucia</td>\n",
       "      <td>Hostal_Sonia</td>\n",
       "      <td>0</td>\n",
       "    </tr>\n",
       "  </tbody>\n",
       "</table>\n",
       "</div>"
      ],
      "text/plain": [
       "      Unnamed: 0                                              title  rating  \\\n",
       "5081        5081                                    Un hostel de 10       5   \n",
       "4807        4807  No es un 4 estrellas, ni creo que lo fuese alg...       2   \n",
       "6817        6817                                2 noches de estadía       5   \n",
       "3291        3291                              horible,precios altos       1   \n",
       "1792        1792                       BIEN UBICADO.BAÑO MALOLIENTE       2   \n",
       "\n",
       "                                            review_text  \\\n",
       "5081  Estuve alojado en este hostel durante 3 noches...   \n",
       "4807  Ruidoso, pésima insonorizacion, parking carisi...   \n",
       "6817  Excelente: personal servicial, personal amable...   \n",
       "3291  he tenido que limpiar yo el suelo ,holor mal e...   \n",
       "1792  La situación es buenísima, en el centro de la ...   \n",
       "\n",
       "                                   location                      hotel  label  \n",
       "5081  Seville_Province_of_Seville_Andalucia  Black_Swan_Hostel_Sevilla      1  \n",
       "4807                                    NaN                        NaN      0  \n",
       "6817  Seville_Province_of_Seville_Andalucia           The_Corner_House      1  \n",
       "3291  Almeria_Province_of_Almeria_Andalucia          Pension_Americano      0  \n",
       "1792  Granada_Province_of_Granada_Andalucia               Hostal_Sonia      0  "
      ]
     },
     "execution_count": 6,
     "metadata": {},
     "output_type": "execute_result"
    }
   ],
   "source": [
    "df.sample(5)"
   ]
  },
  {
   "cell_type": "code",
   "execution_count": 7,
   "metadata": {},
   "outputs": [],
   "source": [
    "df_negativo = df[df['rating']<=2].drop(['label', 'hotel', 'location', 'rating', 'Unnamed: 0'], axis=1)\n",
    "df_neutro = df[df['rating']==3].drop(['label', 'hotel', 'location', 'rating', 'Unnamed: 0'], axis=1)\n",
    "df_positivo = df[df['rating']>=4].drop(['label', 'hotel', 'location', 'rating', 'Unnamed: 0'], axis=1)"
   ]
  },
  {
   "cell_type": "code",
   "execution_count": 8,
   "metadata": {},
   "outputs": [
    {
     "data": {
      "text/plain": [
       "2671"
      ]
     },
     "execution_count": 8,
     "metadata": {},
     "output_type": "execute_result"
    }
   ],
   "source": [
    "len(df_negativo)"
   ]
  },
  {
   "cell_type": "code",
   "execution_count": 9,
   "metadata": {},
   "outputs": [
    {
     "data": {
      "text/html": [
       "<div>\n",
       "<style scoped>\n",
       "    .dataframe tbody tr th:only-of-type {\n",
       "        vertical-align: middle;\n",
       "    }\n",
       "\n",
       "    .dataframe tbody tr th {\n",
       "        vertical-align: top;\n",
       "    }\n",
       "\n",
       "    .dataframe thead th {\n",
       "        text-align: right;\n",
       "    }\n",
       "</style>\n",
       "<table border=\"1\" class=\"dataframe\">\n",
       "  <thead>\n",
       "    <tr style=\"text-align: right;\">\n",
       "      <th></th>\n",
       "      <th>title</th>\n",
       "      <th>review_text</th>\n",
       "    </tr>\n",
       "  </thead>\n",
       "  <tbody>\n",
       "    <tr>\n",
       "      <th>2738</th>\n",
       "      <td>Cuidado si vas con niños</td>\n",
       "      <td>Reservamos directamente en la web del hotel un...</td>\n",
       "    </tr>\n",
       "    <tr>\n",
       "      <th>4815</th>\n",
       "      <td>NO LO RECOMIENDO</td>\n",
       "      <td>Estuvimos un grupo grande hace unos días. La c...</td>\n",
       "    </tr>\n",
       "    <tr>\n",
       "      <th>2075</th>\n",
       "      <td>No muy allá</td>\n",
       "      <td>En un hotel se debe de dormir bien y no ha sid...</td>\n",
       "    </tr>\n",
       "    <tr>\n",
       "      <th>4241</th>\n",
       "      <td>Hotel de 4* para pagar y de 1* en servicios</td>\n",
       "      <td>Estoy acostumbrado todos los años a viajar en ...</td>\n",
       "    </tr>\n",
       "    <tr>\n",
       "      <th>2820</th>\n",
       "      <td>Para salir del paso de forma económica</td>\n",
       "      <td>Al llegar la recepcionista fue muy amable, des...</td>\n",
       "    </tr>\n",
       "  </tbody>\n",
       "</table>\n",
       "</div>"
      ],
      "text/plain": [
       "                                            title  \\\n",
       "2738                     Cuidado si vas con niños   \n",
       "4815                             NO LO RECOMIENDO   \n",
       "2075                                  No muy allá   \n",
       "4241  Hotel de 4* para pagar y de 1* en servicios   \n",
       "2820       Para salir del paso de forma económica   \n",
       "\n",
       "                                            review_text  \n",
       "2738  Reservamos directamente en la web del hotel un...  \n",
       "4815  Estuvimos un grupo grande hace unos días. La c...  \n",
       "2075  En un hotel se debe de dormir bien y no ha sid...  \n",
       "4241  Estoy acostumbrado todos los años a viajar en ...  \n",
       "2820  Al llegar la recepcionista fue muy amable, des...  "
      ]
     },
     "execution_count": 9,
     "metadata": {},
     "output_type": "execute_result"
    }
   ],
   "source": [
    "df_negativo.sample(5)"
   ]
  },
  {
   "cell_type": "code",
   "execution_count": 10,
   "metadata": {},
   "outputs": [
    {
     "data": {
      "text/plain": [
       "2274"
      ]
     },
     "execution_count": 10,
     "metadata": {},
     "output_type": "execute_result"
    }
   ],
   "source": [
    "len(df_neutro)"
   ]
  },
  {
   "cell_type": "code",
   "execution_count": 11,
   "metadata": {},
   "outputs": [
    {
     "data": {
      "text/html": [
       "<div>\n",
       "<style scoped>\n",
       "    .dataframe tbody tr th:only-of-type {\n",
       "        vertical-align: middle;\n",
       "    }\n",
       "\n",
       "    .dataframe tbody tr th {\n",
       "        vertical-align: top;\n",
       "    }\n",
       "\n",
       "    .dataframe thead th {\n",
       "        text-align: right;\n",
       "    }\n",
       "</style>\n",
       "<table border=\"1\" class=\"dataframe\">\n",
       "  <thead>\n",
       "    <tr style=\"text-align: right;\">\n",
       "      <th></th>\n",
       "      <th>title</th>\n",
       "      <th>review_text</th>\n",
       "    </tr>\n",
       "  </thead>\n",
       "  <tbody>\n",
       "    <tr>\n",
       "      <th>1947</th>\n",
       "      <td>Mejor no ir en invierno</td>\n",
       "      <td>Son apartamentos compartidos con estudiantes p...</td>\n",
       "    </tr>\n",
       "    <tr>\n",
       "      <th>3169</th>\n",
       "      <td>Turismo</td>\n",
       "      <td>Un poco cutrecillo, habitación muy pequeña y b...</td>\n",
       "    </tr>\n",
       "    <tr>\n",
       "      <th>3692</th>\n",
       "      <td>Buen albergue pero caros.</td>\n",
       "      <td>Este es un albergue de la junta de Andalucía. ...</td>\n",
       "    </tr>\n",
       "    <tr>\n",
       "      <th>430</th>\n",
       "      <td>Adorable Sevilla</td>\n",
       "      <td>Hotel céntrico pero en barrio delicado. Para s...</td>\n",
       "    </tr>\n",
       "    <tr>\n",
       "      <th>3755</th>\n",
       "      <td>Necesita una reforma urgente</td>\n",
       "      <td>El hotel esta muy bien situado y el personal e...</td>\n",
       "    </tr>\n",
       "  </tbody>\n",
       "</table>\n",
       "</div>"
      ],
      "text/plain": [
       "                             title  \\\n",
       "1947       Mejor no ir en invierno   \n",
       "3169                       Turismo   \n",
       "3692     Buen albergue pero caros.   \n",
       "430               Adorable Sevilla   \n",
       "3755  Necesita una reforma urgente   \n",
       "\n",
       "                                            review_text  \n",
       "1947  Son apartamentos compartidos con estudiantes p...  \n",
       "3169  Un poco cutrecillo, habitación muy pequeña y b...  \n",
       "3692  Este es un albergue de la junta de Andalucía. ...  \n",
       "430   Hotel céntrico pero en barrio delicado. Para s...  \n",
       "3755  El hotel esta muy bien situado y el personal e...  "
      ]
     },
     "execution_count": 11,
     "metadata": {},
     "output_type": "execute_result"
    }
   ],
   "source": [
    "df_neutro.sample(5)"
   ]
  },
  {
   "cell_type": "code",
   "execution_count": 12,
   "metadata": {},
   "outputs": [
    {
     "data": {
      "text/plain": [
       "2670"
      ]
     },
     "execution_count": 12,
     "metadata": {},
     "output_type": "execute_result"
    }
   ],
   "source": [
    "len(df_positivo)"
   ]
  },
  {
   "cell_type": "code",
   "execution_count": 13,
   "metadata": {},
   "outputs": [
    {
     "data": {
      "text/html": [
       "<div>\n",
       "<style scoped>\n",
       "    .dataframe tbody tr th:only-of-type {\n",
       "        vertical-align: middle;\n",
       "    }\n",
       "\n",
       "    .dataframe tbody tr th {\n",
       "        vertical-align: top;\n",
       "    }\n",
       "\n",
       "    .dataframe thead th {\n",
       "        text-align: right;\n",
       "    }\n",
       "</style>\n",
       "<table border=\"1\" class=\"dataframe\">\n",
       "  <thead>\n",
       "    <tr style=\"text-align: right;\">\n",
       "      <th></th>\n",
       "      <th>title</th>\n",
       "      <th>review_text</th>\n",
       "    </tr>\n",
       "  </thead>\n",
       "  <tbody>\n",
       "    <tr>\n",
       "      <th>7288</th>\n",
       "      <td>Un hotel único!</td>\n",
       "      <td>Nos alojamos en este hotel hace unas semanas p...</td>\n",
       "    </tr>\n",
       "    <tr>\n",
       "      <th>6371</th>\n",
       "      <td>Tranquilidad asegurada</td>\n",
       "      <td>Ambiente muy bussines y adulto. Habitaciones i...</td>\n",
       "    </tr>\n",
       "    <tr>\n",
       "      <th>6994</th>\n",
       "      <td>Excelente</td>\n",
       "      <td>Excelentes habitaciones. Muy buen desayuno. Pe...</td>\n",
       "    </tr>\n",
       "    <tr>\n",
       "      <th>5886</th>\n",
       "      <td>Excelente opción.</td>\n",
       "      <td>Hotel recién inaugurado en pleno centro de Sev...</td>\n",
       "    </tr>\n",
       "    <tr>\n",
       "      <th>5513</th>\n",
       "      <td>Excelente</td>\n",
       "      <td>El hotel se encuentra a menos de 10 minutos de...</td>\n",
       "    </tr>\n",
       "  </tbody>\n",
       "</table>\n",
       "</div>"
      ],
      "text/plain": [
       "                       title  \\\n",
       "7288         Un hotel único!   \n",
       "6371  Tranquilidad asegurada   \n",
       "6994               Excelente   \n",
       "5886       Excelente opción.   \n",
       "5513               Excelente   \n",
       "\n",
       "                                            review_text  \n",
       "7288  Nos alojamos en este hotel hace unas semanas p...  \n",
       "6371  Ambiente muy bussines y adulto. Habitaciones i...  \n",
       "6994  Excelentes habitaciones. Muy buen desayuno. Pe...  \n",
       "5886  Hotel recién inaugurado en pleno centro de Sev...  \n",
       "5513  El hotel se encuentra a menos de 10 minutos de...  "
      ]
     },
     "execution_count": 13,
     "metadata": {},
     "output_type": "execute_result"
    }
   ],
   "source": [
    "df_positivo.sample(5)"
   ]
  }
 ],
 "metadata": {
  "kernelspec": {
   "display_name": "Python 3.8.13 64-bit ('3.8.13')",
   "language": "python",
   "name": "python3"
  },
  "language_info": {
   "codemirror_mode": {
    "name": "ipython",
    "version": 3
   },
   "file_extension": ".py",
   "mimetype": "text/x-python",
   "name": "python",
   "nbconvert_exporter": "python",
   "pygments_lexer": "ipython3",
   "version": "3.8.13"
  },
  "orig_nbformat": 4,
  "vscode": {
   "interpreter": {
    "hash": "110cc1dee26208153f2972f08a2ad52b6a56238dc66d48e87fb757ef2996db56"
   }
  }
 },
 "nbformat": 4,
 "nbformat_minor": 2
}
