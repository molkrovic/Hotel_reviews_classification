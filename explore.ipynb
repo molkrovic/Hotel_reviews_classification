{
 "cells": [
  {
   "cell_type": "code",
   "execution_count": 1,
   "metadata": {},
   "outputs": [],
   "source": [
    "%%capture\n",
    "\n",
    "!pip install -r requirements.txt"
   ]
  },
  {
   "cell_type": "code",
   "execution_count": 2,
   "metadata": {},
   "outputs": [],
   "source": [
    "import pandas as pd\n",
    "import numpy as np\n",
    "import matplotlib.pyplot as plt\n",
    "import unicodedata\n",
    "import fasttext\n",
    "import re\n",
    "import nltk\n",
    "from nltk.corpus import stopwords\n",
    "from nltk.tokenize import word_tokenize\n",
    "from nltk.cluster.util import cosine_distance\n",
    "from sklearn.cluster import KMeans\n",
    "from sklearn.metrics import silhouette_score\n",
    "from sklearn.decomposition import PCA\n",
    "from wordcloud import WordCloud\n",
    "import plotly.express as px\n",
    "from sklearn.feature_extraction.text import CountVectorizer\n",
    "from sklearn.model_selection import train_test_split, GridSearchCV\n",
    "from sklearn import model_selection, svm\n",
    "from sklearn.svm import SVC\n",
    "from sklearn.metrics import classification_report, accuracy_score"
   ]
  },
  {
   "cell_type": "code",
   "execution_count": 3,
   "metadata": {},
   "outputs": [],
   "source": [
    "df_raw = pd.read_csv('data/raw/Big_AHR.csv')"
   ]
  },
  {
   "cell_type": "code",
   "execution_count": 5,
   "metadata": {},
   "outputs": [
    {
     "name": "stdout",
     "output_type": "stream",
     "text": [
      "<class 'pandas.core.frame.DataFrame'>\n",
      "RangeIndex: 18172 entries, 0 to 18171\n",
      "Data columns (total 7 columns):\n",
      " #   Column       Non-Null Count  Dtype \n",
      "---  ------       --------------  ----- \n",
      " 0   Unnamed: 0   18172 non-null  int64 \n",
      " 1   title        18172 non-null  object\n",
      " 2   rating       18172 non-null  int64 \n",
      " 3   review_text  18172 non-null  object\n",
      " 4   location     16356 non-null  object\n",
      " 5   hotel        16356 non-null  object\n",
      " 6   label        18172 non-null  int64 \n",
      "dtypes: int64(3), object(4)\n",
      "memory usage: 993.9+ KB\n"
     ]
    }
   ],
   "source": [
    "df_raw.info()"
   ]
  },
  {
   "cell_type": "code",
   "execution_count": 6,
   "metadata": {},
   "outputs": [
    {
     "data": {
      "text/html": [
       "<div>\n",
       "<style scoped>\n",
       "    .dataframe tbody tr th:only-of-type {\n",
       "        vertical-align: middle;\n",
       "    }\n",
       "\n",
       "    .dataframe tbody tr th {\n",
       "        vertical-align: top;\n",
       "    }\n",
       "\n",
       "    .dataframe thead th {\n",
       "        text-align: right;\n",
       "    }\n",
       "</style>\n",
       "<table border=\"1\" class=\"dataframe\">\n",
       "  <thead>\n",
       "    <tr style=\"text-align: right;\">\n",
       "      <th></th>\n",
       "      <th>Unnamed: 0</th>\n",
       "      <th>rating</th>\n",
       "      <th>label</th>\n",
       "    </tr>\n",
       "  </thead>\n",
       "  <tbody>\n",
       "    <tr>\n",
       "      <th>count</th>\n",
       "      <td>18172.000000</td>\n",
       "      <td>18172.000000</td>\n",
       "      <td>18172.000000</td>\n",
       "    </tr>\n",
       "    <tr>\n",
       "      <th>mean</th>\n",
       "      <td>9085.500000</td>\n",
       "      <td>3.984151</td>\n",
       "      <td>1.103291</td>\n",
       "    </tr>\n",
       "    <tr>\n",
       "      <th>std</th>\n",
       "      <td>5245.948881</td>\n",
       "      <td>1.292239</td>\n",
       "      <td>0.798061</td>\n",
       "    </tr>\n",
       "    <tr>\n",
       "      <th>min</th>\n",
       "      <td>0.000000</td>\n",
       "      <td>1.000000</td>\n",
       "      <td>0.000000</td>\n",
       "    </tr>\n",
       "    <tr>\n",
       "      <th>25%</th>\n",
       "      <td>4542.750000</td>\n",
       "      <td>3.000000</td>\n",
       "      <td>1.000000</td>\n",
       "    </tr>\n",
       "    <tr>\n",
       "      <th>50%</th>\n",
       "      <td>9085.500000</td>\n",
       "      <td>4.000000</td>\n",
       "      <td>1.000000</td>\n",
       "    </tr>\n",
       "    <tr>\n",
       "      <th>75%</th>\n",
       "      <td>13628.250000</td>\n",
       "      <td>5.000000</td>\n",
       "      <td>1.000000</td>\n",
       "    </tr>\n",
       "    <tr>\n",
       "      <th>max</th>\n",
       "      <td>18171.000000</td>\n",
       "      <td>5.000000</td>\n",
       "      <td>3.000000</td>\n",
       "    </tr>\n",
       "  </tbody>\n",
       "</table>\n",
       "</div>"
      ],
      "text/plain": [
       "         Unnamed: 0        rating         label\n",
       "count  18172.000000  18172.000000  18172.000000\n",
       "mean    9085.500000      3.984151      1.103291\n",
       "std     5245.948881      1.292239      0.798061\n",
       "min        0.000000      1.000000      0.000000\n",
       "25%     4542.750000      3.000000      1.000000\n",
       "50%     9085.500000      4.000000      1.000000\n",
       "75%    13628.250000      5.000000      1.000000\n",
       "max    18171.000000      5.000000      3.000000"
      ]
     },
     "execution_count": 6,
     "metadata": {},
     "output_type": "execute_result"
    }
   ],
   "source": [
    "df_raw.describe()"
   ]
  },
  {
   "cell_type": "code",
   "execution_count": 7,
   "metadata": {},
   "outputs": [
    {
     "data": {
      "text/html": [
       "<div>\n",
       "<style scoped>\n",
       "    .dataframe tbody tr th:only-of-type {\n",
       "        vertical-align: middle;\n",
       "    }\n",
       "\n",
       "    .dataframe tbody tr th {\n",
       "        vertical-align: top;\n",
       "    }\n",
       "\n",
       "    .dataframe thead th {\n",
       "        text-align: right;\n",
       "    }\n",
       "</style>\n",
       "<table border=\"1\" class=\"dataframe\">\n",
       "  <thead>\n",
       "    <tr style=\"text-align: right;\">\n",
       "      <th></th>\n",
       "      <th>Unnamed: 0</th>\n",
       "      <th>title</th>\n",
       "      <th>rating</th>\n",
       "      <th>review_text</th>\n",
       "      <th>location</th>\n",
       "      <th>hotel</th>\n",
       "      <th>label</th>\n",
       "    </tr>\n",
       "  </thead>\n",
       "  <tbody>\n",
       "    <tr>\n",
       "      <th>6211</th>\n",
       "      <td>6211</td>\n",
       "      <td>Si quieren un pésimo WIFI, este es el lugar</td>\n",
       "      <td>3</td>\n",
       "      <td>El hotel está bien ubicado, muy cerca de la pl...</td>\n",
       "      <td>Malaga_Costa_del_Sol_Province_of_Malaga_Andalucia</td>\n",
       "      <td>Hotel_Soho_Boutique_Los_Naranjos</td>\n",
       "      <td>3</td>\n",
       "    </tr>\n",
       "    <tr>\n",
       "      <th>12089</th>\n",
       "      <td>12089</td>\n",
       "      <td>Muy Sorprendidos! Excelente!</td>\n",
       "      <td>4</td>\n",
       "      <td>La verdad quedamos muy sorprendidos de la limp...</td>\n",
       "      <td>Cordoba_Province_of_Cordoba_Andalucia</td>\n",
       "      <td>Albergue_Juvenil_de_Cordoba</td>\n",
       "      <td>1</td>\n",
       "    </tr>\n",
       "    <tr>\n",
       "      <th>1028</th>\n",
       "      <td>1028</td>\n",
       "      <td>Nuevo concepto TABLAFINA NH Plaza de Armas</td>\n",
       "      <td>5</td>\n",
       "      <td>Visitar Sevilla siempre es una maravilla, y su...</td>\n",
       "      <td>Seville_Province_of_Seville_Andalucia</td>\n",
       "      <td>NH_Sevilla_Plaza_de_Armas</td>\n",
       "      <td>1</td>\n",
       "    </tr>\n",
       "    <tr>\n",
       "      <th>8538</th>\n",
       "      <td>8538</td>\n",
       "      <td>Atardecer en el mirador</td>\n",
       "      <td>4</td>\n",
       "      <td>Recomendable tomarse un café en el cafetería d...</td>\n",
       "      <td>Granada_Province_of_Granada_Andalucia</td>\n",
       "      <td>Alhambra_Palace_Hotel</td>\n",
       "      <td>1</td>\n",
       "    </tr>\n",
       "    <tr>\n",
       "      <th>11159</th>\n",
       "      <td>11159</td>\n",
       "      <td>Extraordinario</td>\n",
       "      <td>5</td>\n",
       "      <td>Magnifico hotel, muy buena ubicación, cerca de...</td>\n",
       "      <td>Cordoba_Province_of_Cordoba_Andalucia</td>\n",
       "      <td>Hotel_Selu</td>\n",
       "      <td>1</td>\n",
       "    </tr>\n",
       "  </tbody>\n",
       "</table>\n",
       "</div>"
      ],
      "text/plain": [
       "       Unnamed: 0                                        title  rating  \\\n",
       "6211         6211  Si quieren un pésimo WIFI, este es el lugar       3   \n",
       "12089       12089                 Muy Sorprendidos! Excelente!       4   \n",
       "1028         1028   Nuevo concepto TABLAFINA NH Plaza de Armas       5   \n",
       "8538         8538                      Atardecer en el mirador       4   \n",
       "11159       11159                               Extraordinario       5   \n",
       "\n",
       "                                             review_text  \\\n",
       "6211   El hotel está bien ubicado, muy cerca de la pl...   \n",
       "12089  La verdad quedamos muy sorprendidos de la limp...   \n",
       "1028   Visitar Sevilla siempre es una maravilla, y su...   \n",
       "8538   Recomendable tomarse un café en el cafetería d...   \n",
       "11159  Magnifico hotel, muy buena ubicación, cerca de...   \n",
       "\n",
       "                                                location  \\\n",
       "6211   Malaga_Costa_del_Sol_Province_of_Malaga_Andalucia   \n",
       "12089              Cordoba_Province_of_Cordoba_Andalucia   \n",
       "1028               Seville_Province_of_Seville_Andalucia   \n",
       "8538               Granada_Province_of_Granada_Andalucia   \n",
       "11159              Cordoba_Province_of_Cordoba_Andalucia   \n",
       "\n",
       "                                  hotel  label  \n",
       "6211   Hotel_Soho_Boutique_Los_Naranjos      3  \n",
       "12089       Albergue_Juvenil_de_Cordoba      1  \n",
       "1028          NH_Sevilla_Plaza_de_Armas      1  \n",
       "8538              Alhambra_Palace_Hotel      1  \n",
       "11159                        Hotel_Selu      1  "
      ]
     },
     "execution_count": 7,
     "metadata": {},
     "output_type": "execute_result"
    }
   ],
   "source": [
    "df_raw.sample(5)"
   ]
  },
  {
   "cell_type": "code",
   "execution_count": 9,
   "metadata": {},
   "outputs": [
    {
     "data": {
      "image/png": "[encoded data removed]",
      "text/plain": [
       "<Figure size 432x288 with 1 Axes>"
      ]
     },
     "metadata": {
      "needs_background": "light"
     },
     "output_type": "display_data"
    }
   ],
   "source": [
    "plt.hist(df_raw['rating'], bins=5)\n",
    "plt.show()"
   ]
  },
  {
   "cell_type": "code",
   "execution_count": 12,
   "metadata": {},
   "outputs": [
    {
     "data": {
      "text/plain": [
       "Carmen_de_Ramilla                                    120\n",
       "Apartamentos_Mauror                                  100\n",
       "Hotel_Ho_Ciudad_de_Jaen                               80\n",
       "Hotel_Xauen                                           80\n",
       "La_Almunia_del_Valle                                  80\n",
       "                                                    ... \n",
       "Nixar                                                  4\n",
       "Apartamentos_Turisticos_Vista_Alhambra                 4\n",
       "La_Esperanza_Granada                                   3\n",
       "Finca_El_Juncal                                        3\n",
       "Radisson_Collection_Hotel_Magdalena_Plaza_Sevilla      3\n",
       "Name: hotel, Length: 715, dtype: int64"
      ]
     },
     "execution_count": 12,
     "metadata": {},
     "output_type": "execute_result"
    }
   ],
   "source": [
    "df_raw['hotel'].value_counts()"
   ]
  },
  {
   "cell_type": "code",
   "execution_count": 14,
   "metadata": {},
   "outputs": [
    {
     "data": {
      "image/png": "[encoded data removed]",
      "text/plain": [
       "<Figure size 432x288 with 1 Axes>"
      ]
     },
     "metadata": {
      "needs_background": "light"
     },
     "output_type": "display_data"
    }
   ],
   "source": [
    "plt.hist(df_raw['hotel'].value_counts())\n",
    "plt.show()"
   ]
  },
  {
   "cell_type": "markdown",
   "metadata": {},
   "source": [
    "#### Reseñas neutras (3 estrellas)"
   ]
  },
  {
   "cell_type": "code",
   "execution_count": 4,
   "metadata": {},
   "outputs": [],
   "source": [
    "df_3_stars = df_raw[df_raw['rating']==3]"
   ]
  },
  {
   "cell_type": "code",
   "execution_count": 11,
   "metadata": {},
   "outputs": [
    {
     "name": "stdout",
     "output_type": "stream",
     "text": [
      "Es un sitio cómodo en cuanto a su localización. Limpio. Sólo hay una ducha para todos, por lo que hay que correr para pillar sitio. Es una pensión sin más. Lo necesario para cuando pasas todo el día de turismo. Le falta televisión en las habitaciones.\n",
      "\n",
      "Hotel donde tu te registras. Tu te abres. Tu si quieres te preparas. En pleno centro de Almeria. Cama muy confortable. Baño pequeño. Poco calor de hotel...Si mucha privacidad. Un nuevo concepto hotel.\n",
      "\n",
      "De entrada, apenas señalado, si no es por la dirección ni lo encontramos, solo un pequeño cartelito en el portal.  Cuando entras, es practicamente una casa particular.  La mujer que lo lleva es muy maja, pero algo despistada.  La habitación no tenía cortinas, solo un toldo para el sol de la mañana, que no era suficiente.  La habitación en estas fechas fría, a pesar de tener radiador, estaban apagados, aunque la mujer indicó que nos iba a dejar un calefactor para no pasar frío, al final no fué así y las dos noches las pasamos regular.  Otra cosa que no estuvo bien es que para no tener frío nos dió unas colchas que nos tuvo que traer, pero al salir nosotros de la casa, diciendo que las tuvo que reorganizar, paso a la habitación y nos las quitó, poniendo unas mas finas que no eran suficiente.  La mujer invita a desayunar y la ubicación es buena, pilla justo al lado del casco histórico.  Si buscas algo para pasar la noche y poco más, es tu sitio, si no, mejor busca otro lado.…\n",
      "\n",
      "La entrada del hotel es preciosa, pero la habitación olía muy raro y fuerte, no sé si será el producto para limpiar la tarima o que olía a tabaco rancio. Por otra parte, solo había una almohada súper fina, solo un cepillo de dientes (vas en pareja) y solo un champú de baño súper pequeño con el que no me podía dar ni un lavado de pelo.\n",
      "\n",
      "A nivel de mantenimiento está cayendo en el abandono, tal como demuestran las fotos que adjunto. El aire acondicionado hacía un ruido, derivado de una vibración, que hacía directamente que lo tuviera que apagar, y en toda la habitación solo encontré 2 enchufes libres, un debajo de una de las mesillas, incomodísimo, y otro en el baño.  Por hablar de lo bueno, el trato en la recepción fue excelente, la cama comodísima y el wifi me funcionó muy bien. Cenamos una noche en la cafetería y fue una experiencia muy buena y los desayunos también muy buena, haciendo especial mención al jamón, que lejos de lo que suele ocurrir en los desayunos de los hoteles, este es de una calidad alta.\n",
      "\n"
     ]
    }
   ],
   "source": [
    "for text in df_3_stars['review_text'].sample(5).tolist():\n",
    "    print(text)\n",
    "    print()"
   ]
  },
  {
   "cell_type": "markdown",
   "metadata": {},
   "source": [
    "En esta muestra de reseñas neutras se ve que los comentarios destacan tanto aspectos positivos como negativos. \n",
    "A continuación se intenta separar cada comentario en oraciones, para su clasificación en positivas y negativas."
   ]
  },
  {
   "cell_type": "code",
   "execution_count": 12,
   "metadata": {},
   "outputs": [],
   "source": [
    "# Eliminar columnas que no corresponden a texto de la reseña\n",
    "def delete_columns(df):\n",
    "    df = df.drop(['label', 'hotel', 'location', 'rating', 'Unnamed: 0'], axis=1)\n",
    "    return df"
   ]
  },
  {
   "cell_type": "code",
   "execution_count": 14,
   "metadata": {},
   "outputs": [],
   "source": [
    "df_3_stars = delete_columns(df_3_stars)"
   ]
  },
  {
   "cell_type": "code",
   "execution_count": 15,
   "metadata": {},
   "outputs": [],
   "source": [
    "# Crear una columna que combine title y review\n",
    "def combine_texts(df):\n",
    "    df['text'] = df['title'].astype(str)+'. '+df['review_text'].astype(str)\n",
    "    return df"
   ]
  },
  {
   "cell_type": "code",
   "execution_count": 16,
   "metadata": {},
   "outputs": [],
   "source": [
    "df_3_stars = combine_texts(df_3_stars)"
   ]
  },
  {
   "cell_type": "code",
   "execution_count": 18,
   "metadata": {},
   "outputs": [],
   "source": [
    "# Crear lista con cada oración (separada por .) por separado\n",
    "lista_text = df_3_stars['text'].tolist()\n",
    "\n",
    "sentences = []\n",
    "\n",
    "for line in lista_text:\n",
    "    line = line.rstrip()\n",
    "    oraciones = line.split('.')\n",
    "    for oracion in oraciones:\n",
    "        oracion = oracion.lstrip(' ')\n",
    "        sentences.append(oracion)\n",
    "sentences = list(filter(None, sentences))"
   ]
  },
  {
   "cell_type": "code",
   "execution_count": 19,
   "metadata": {},
   "outputs": [],
   "source": [
    "# Convertir la lista anterior a dataframe\n",
    "df_sentences_3_stars = pd.DataFrame (sentences, columns = ['text'])"
   ]
  },
  {
   "cell_type": "code",
   "execution_count": 20,
   "metadata": {},
   "outputs": [],
   "source": [
    "# Limpieza del texto\n",
    "def preprocess_column(df):\n",
    "    df['text_processed'] = df['text'].str.strip().str.lower()\n",
    "    caracteres = ['!', ',', '&', ':', ';', '(', ')', '.', '?', '\"']\n",
    "    for car in caracteres:\n",
    "        df['text_processed'] = df['text_processed'].str.replace(car,'', regex=False)\n",
    "    df['text_processed'] = df['text_processed'].str.normalize('NFKC')\n",
    "    df['text_processed'] = df['text_processed'].str.replace(r'([a-zA-Z])\\1{2,}', r'\\1', regex=True) \n",
    "    return df"
   ]
  },
  {
   "cell_type": "code",
   "execution_count": 21,
   "metadata": {},
   "outputs": [],
   "source": [
    "df_sentences_3_stars = preprocess_column(df_sentences_3_stars)"
   ]
  },
  {
   "cell_type": "code",
   "execution_count": 22,
   "metadata": {},
   "outputs": [],
   "source": [
    "# Normalizar el texto (eliminar tildes, diéresis, etc)\n",
    "def normalize_str(text_string):\n",
    "    if text_string is not None:\n",
    "        result = unicodedata.normalize('NFD', text_string).encode('ascii', 'ignore').decode()\n",
    "    else:\n",
    "        result = None\n",
    "    return result"
   ]
  },
  {
   "cell_type": "code",
   "execution_count": 23,
   "metadata": {},
   "outputs": [],
   "source": [
    "df_sentences_3_stars['text_processed'] = df_sentences_3_stars['text_processed'].apply(normalize_str)"
   ]
  },
  {
   "cell_type": "code",
   "execution_count": 24,
   "metadata": {},
   "outputs": [],
   "source": [
    "# Sustituye caracteres no alfanuméricos\n",
    "def non_alphanumeric(texto):\n",
    "    return re.sub(\"(\\\\W)+\",\" \", texto)"
   ]
  },
  {
   "cell_type": "code",
   "execution_count": 25,
   "metadata": {},
   "outputs": [],
   "source": [
    "df_sentences_3_stars['text_processed'] = df_sentences_3_stars['text_processed'].apply(non_alphanumeric)"
   ]
  },
  {
   "cell_type": "code",
   "execution_count": 26,
   "metadata": {},
   "outputs": [],
   "source": [
    "#Sustituye los espacios dobles entre palabras\n",
    "def multiple_esp(texto):\n",
    "    return re.sub(' +', ' ',texto)"
   ]
  },
  {
   "cell_type": "code",
   "execution_count": 27,
   "metadata": {},
   "outputs": [],
   "source": [
    "df_sentences_3_stars['text_processed'] = df_sentences_3_stars['text_processed'].apply(multiple_esp)"
   ]
  },
  {
   "cell_type": "code",
   "execution_count": 28,
   "metadata": {},
   "outputs": [
    {
     "name": "stderr",
     "output_type": "stream",
     "text": [
      "[nltk_data] Downloading package stopwords to /home/gitpod/nltk_data...\n",
      "[nltk_data]   Package stopwords is already up-to-date!\n"
     ]
    },
    {
     "data": {
      "text/plain": [
       "True"
      ]
     },
     "execution_count": 28,
     "metadata": {},
     "output_type": "execute_result"
    }
   ],
   "source": [
    "nltk.download('stopwords')"
   ]
  },
  {
   "cell_type": "code",
   "execution_count": 29,
   "metadata": {},
   "outputs": [
    {
     "name": "stderr",
     "output_type": "stream",
     "text": [
      "[nltk_data] Downloading package punkt to /home/gitpod/nltk_data...\n",
      "[nltk_data]   Package punkt is already up-to-date!\n"
     ]
    },
    {
     "data": {
      "text/plain": [
       "True"
      ]
     },
     "execution_count": 29,
     "metadata": {},
     "output_type": "execute_result"
    }
   ],
   "source": [
    "nltk.download('punkt')"
   ]
  },
  {
   "cell_type": "code",
   "execution_count": 30,
   "metadata": {},
   "outputs": [],
   "source": [
    "stop_words = stopwords.words('spanish')"
   ]
  },
  {
   "cell_type": "code",
   "execution_count": 23,
   "metadata": {},
   "outputs": [
    {
     "name": "stdout",
     "output_type": "stream",
     "text": [
      "['de', 'la', 'que', 'el', 'en', 'y', 'a', 'los', 'del', 'se', 'las', 'por', 'un', 'para', 'con', 'no', 'una', 'su', 'al', 'lo', 'como', 'más', 'pero', 'sus', 'le', 'ya', 'o', 'este', 'sí', 'porque', 'esta', 'entre', 'cuando', 'muy', 'sin', 'sobre', 'también', 'me', 'hasta', 'hay', 'donde', 'quien', 'desde', 'todo', 'nos', 'durante', 'todos', 'uno', 'les', 'ni', 'contra', 'otros', 'ese', 'eso', 'ante', 'ellos', 'e', 'esto', 'mí', 'antes', 'algunos', 'qué', 'unos', 'yo', 'otro', 'otras', 'otra', 'él', 'tanto', 'esa', 'estos', 'mucho', 'quienes', 'nada', 'muchos', 'cual', 'poco', 'ella', 'estar', 'estas', 'algunas', 'algo', 'nosotros', 'mi', 'mis', 'tú', 'te', 'ti', 'tu', 'tus', 'ellas', 'nosotras', 'vosotros', 'vosotras', 'os', 'mío', 'mía', 'míos', 'mías', 'tuyo', 'tuya', 'tuyos', 'tuyas', 'suyo', 'suya', 'suyos', 'suyas', 'nuestro', 'nuestra', 'nuestros', 'nuestras', 'vuestro', 'vuestra', 'vuestros', 'vuestras', 'esos', 'esas', 'estoy', 'estás', 'está', 'estamos', 'estáis', 'están', 'esté', 'estés', 'estemos', 'estéis', 'estén', 'estaré', 'estarás', 'estará', 'estaremos', 'estaréis', 'estarán', 'estaría', 'estarías', 'estaríamos', 'estaríais', 'estarían', 'estaba', 'estabas', 'estábamos', 'estabais', 'estaban', 'estuve', 'estuviste', 'estuvo', 'estuvimos', 'estuvisteis', 'estuvieron', 'estuviera', 'estuvieras', 'estuviéramos', 'estuvierais', 'estuvieran', 'estuviese', 'estuvieses', 'estuviésemos', 'estuvieseis', 'estuviesen', 'estando', 'estado', 'estada', 'estados', 'estadas', 'estad', 'he', 'has', 'ha', 'hemos', 'habéis', 'han', 'haya', 'hayas', 'hayamos', 'hayáis', 'hayan', 'habré', 'habrás', 'habrá', 'habremos', 'habréis', 'habrán', 'habría', 'habrías', 'habríamos', 'habríais', 'habrían', 'había', 'habías', 'habíamos', 'habíais', 'habían', 'hube', 'hubiste', 'hubo', 'hubimos', 'hubisteis', 'hubieron', 'hubiera', 'hubieras', 'hubiéramos', 'hubierais', 'hubieran', 'hubiese', 'hubieses', 'hubiésemos', 'hubieseis', 'hubiesen', 'habiendo', 'habido', 'habida', 'habidos', 'habidas', 'soy', 'eres', 'es', 'somos', 'sois', 'son', 'sea', 'seas', 'seamos', 'seáis', 'sean', 'seré', 'serás', 'será', 'seremos', 'seréis', 'serán', 'sería', 'serías', 'seríamos', 'seríais', 'serían', 'era', 'eras', 'éramos', 'erais', 'eran', 'fui', 'fuiste', 'fue', 'fuimos', 'fuisteis', 'fueron', 'fuera', 'fueras', 'fuéramos', 'fuerais', 'fueran', 'fuese', 'fueses', 'fuésemos', 'fueseis', 'fuesen', 'sintiendo', 'sentido', 'sentida', 'sentidos', 'sentidas', 'siente', 'sentid', 'tengo', 'tienes', 'tiene', 'tenemos', 'tenéis', 'tienen', 'tenga', 'tengas', 'tengamos', 'tengáis', 'tengan', 'tendré', 'tendrás', 'tendrá', 'tendremos', 'tendréis', 'tendrán', 'tendría', 'tendrías', 'tendríamos', 'tendríais', 'tendrían', 'tenía', 'tenías', 'teníamos', 'teníais', 'tenían', 'tuve', 'tuviste', 'tuvo', 'tuvimos', 'tuvisteis', 'tuvieron', 'tuviera', 'tuvieras', 'tuviéramos', 'tuvierais', 'tuvieran', 'tuviese', 'tuvieses', 'tuviésemos', 'tuvieseis', 'tuviesen', 'teniendo', 'tenido', 'tenida', 'tenidos', 'tenidas', 'tened']\n"
     ]
    }
   ],
   "source": [
    "print(stop_words)"
   ]
  },
  {
   "cell_type": "code",
   "execution_count": 31,
   "metadata": {},
   "outputs": [],
   "source": [
    "# No se quiere remover del texto las palabras que cambian el sentido de la expresión (por ejemplo \"no\")\n",
    "for word in ['no', 'sin', 'nada']:\n",
    "    stop_words.remove(word)"
   ]
  },
  {
   "cell_type": "code",
   "execution_count": 32,
   "metadata": {},
   "outputs": [],
   "source": [
    "# Remover \"hotel\", que aparece en la mayoría de las reseñas y no aporta significativamente al análisis\n",
    "stop_words.append('hotel')"
   ]
  },
  {
   "cell_type": "code",
   "execution_count": 33,
   "metadata": {},
   "outputs": [],
   "source": [
    "# Normalizar stopwords\n",
    "for i in range(len(stop_words)):\n",
    "    stop_words[i] = normalize_str(stop_words[i])"
   ]
  },
  {
   "cell_type": "code",
   "execution_count": 34,
   "metadata": {},
   "outputs": [],
   "source": [
    "# Función para eliminar las stopwords incluidas en la lista creada\n",
    "def remove_stopwords(text_string):\n",
    "    word_tokens = word_tokenize(text_string)\n",
    "    filtered_sentence = [w for w in word_tokens if not w in stop_words]\n",
    "    sentence = ' '.join(str(x) for x in filtered_sentence)\n",
    "    return sentence"
   ]
  },
  {
   "cell_type": "code",
   "execution_count": 35,
   "metadata": {},
   "outputs": [],
   "source": [
    "df_sentences_3_stars['text_processed'] = df_sentences_3_stars['text_processed'].apply(remove_stopwords)"
   ]
  },
  {
   "cell_type": "code",
   "execution_count": 38,
   "metadata": {},
   "outputs": [
    {
     "data": {
      "text/html": [
       "<div>\n",
       "<style scoped>\n",
       "    .dataframe tbody tr th:only-of-type {\n",
       "        vertical-align: middle;\n",
       "    }\n",
       "\n",
       "    .dataframe tbody tr th {\n",
       "        vertical-align: top;\n",
       "    }\n",
       "\n",
       "    .dataframe thead th {\n",
       "        text-align: right;\n",
       "    }\n",
       "</style>\n",
       "<table border=\"1\" class=\"dataframe\">\n",
       "  <thead>\n",
       "    <tr style=\"text-align: right;\">\n",
       "      <th></th>\n",
       "      <th>text</th>\n",
       "      <th>text_processed</th>\n",
       "    </tr>\n",
       "  </thead>\n",
       "  <tbody>\n",
       "    <tr>\n",
       "      <th>13409</th>\n",
       "      <td>Se escuchaba por todo el patio y en su habitac...</td>\n",
       "      <td>escuchaba patio habitacion no digno quitarse t...</td>\n",
       "    </tr>\n",
       "    <tr>\n",
       "      <th>13604</th>\n",
       "      <td>El hotel es céntrico, que para las visitas a l...</td>\n",
       "      <td>centrico visitas ciudad bien limpio remodelado...</td>\n",
       "    </tr>\n",
       "    <tr>\n",
       "      <th>7088</th>\n",
       "      <td>Lo mejor el personal y la ubicación</td>\n",
       "      <td>mejor personal ubicacion</td>\n",
       "    </tr>\n",
       "  </tbody>\n",
       "</table>\n",
       "</div>"
      ],
      "text/plain": [
       "                                                    text  \\\n",
       "13409  Se escuchaba por todo el patio y en su habitac...   \n",
       "13604  El hotel es céntrico, que para las visitas a l...   \n",
       "7088                 Lo mejor el personal y la ubicación   \n",
       "\n",
       "                                          text_processed  \n",
       "13409  escuchaba patio habitacion no digno quitarse t...  \n",
       "13604  centrico visitas ciudad bien limpio remodelado...  \n",
       "7088                            mejor personal ubicacion  "
      ]
     },
     "execution_count": 38,
     "metadata": {},
     "output_type": "execute_result"
    }
   ],
   "source": [
    "df_sentences_3_stars.sample(3)"
   ]
  },
  {
   "cell_type": "code",
   "execution_count": 39,
   "metadata": {},
   "outputs": [],
   "source": [
    "# Guardar el dataframe como csv\n",
    "df_sentences_3_stars.to_csv('data/interim/sentences_3_stars.csv')"
   ]
  },
  {
   "cell_type": "markdown",
   "metadata": {},
   "source": [
    "Para realizar una clasificación de cada oración (en positiva y negativa) es necesario hacer el mismo procesamiento con las demás reseñas. \n",
    "Este procedimiento está hecho en create_df_sentences.py\n",
    "\n",
    "Al usar las reseñas positivas y negativas para el entrenamiento se está asumiendo que todas las oraciones de un comentario positivo son positivas (y que todas las oraciones de un comentario negativo son negativas), lo cual no tiene por qué ser cierto, y por lo tanto se introduce cierto error. Para minimizar este error, se utiliza para el entrenamiento solo las reseñas con 1 estrella y 5 estrellas."
   ]
  },
  {
   "cell_type": "code",
   "execution_count": 40,
   "metadata": {},
   "outputs": [],
   "source": [
    "df_sentences_1_star = pd.read_csv('data/interim/sentences_1_star.csv')\n",
    "df_sentences_5_stars = pd.read_csv('data/interim/sentences_5_stars.csv')"
   ]
  },
  {
   "cell_type": "code",
   "execution_count": 55,
   "metadata": {},
   "outputs": [
    {
     "data": {
      "text/html": [
       "<div>\n",
       "<style scoped>\n",
       "    .dataframe tbody tr th:only-of-type {\n",
       "        vertical-align: middle;\n",
       "    }\n",
       "\n",
       "    .dataframe tbody tr th {\n",
       "        vertical-align: top;\n",
       "    }\n",
       "\n",
       "    .dataframe thead th {\n",
       "        text-align: right;\n",
       "    }\n",
       "</style>\n",
       "<table border=\"1\" class=\"dataframe\">\n",
       "  <thead>\n",
       "    <tr style=\"text-align: right;\">\n",
       "      <th></th>\n",
       "      <th>text</th>\n",
       "      <th>text_processed</th>\n",
       "    </tr>\n",
       "  </thead>\n",
       "  <tbody>\n",
       "    <tr>\n",
       "      <th>5763</th>\n",
       "      <td>La habitación es minúscula, el somier de la ca...</td>\n",
       "      <td>habitacion minuscula somier cama pico facil cl...</td>\n",
       "    </tr>\n",
       "    <tr>\n",
       "      <th>3584</th>\n",
       "      <td>Decepcionada</td>\n",
       "      <td>decepcionada</td>\n",
       "    </tr>\n",
       "    <tr>\n",
       "      <th>3939</th>\n",
       "      <td>Lo peor en hoteles que he visto nunca</td>\n",
       "      <td>peor hoteles visto nunca</td>\n",
       "    </tr>\n",
       "  </tbody>\n",
       "</table>\n",
       "</div>"
      ],
      "text/plain": [
       "                                                   text  \\\n",
       "5763  La habitación es minúscula, el somier de la ca...   \n",
       "3584                                      Decepcionada    \n",
       "3939              Lo peor en hoteles que he visto nunca   \n",
       "\n",
       "                                         text_processed  \n",
       "5763  habitacion minuscula somier cama pico facil cl...  \n",
       "3584                                       decepcionada  \n",
       "3939                           peor hoteles visto nunca  "
      ]
     },
     "execution_count": 55,
     "metadata": {},
     "output_type": "execute_result"
    }
   ],
   "source": [
    "df_sentences_1_star.sample(3)"
   ]
  },
  {
   "cell_type": "code",
   "execution_count": 54,
   "metadata": {},
   "outputs": [
    {
     "data": {
      "text/html": [
       "<div>\n",
       "<style scoped>\n",
       "    .dataframe tbody tr th:only-of-type {\n",
       "        vertical-align: middle;\n",
       "    }\n",
       "\n",
       "    .dataframe tbody tr th {\n",
       "        vertical-align: top;\n",
       "    }\n",
       "\n",
       "    .dataframe thead th {\n",
       "        text-align: right;\n",
       "    }\n",
       "</style>\n",
       "<table border=\"1\" class=\"dataframe\">\n",
       "  <thead>\n",
       "    <tr style=\"text-align: right;\">\n",
       "      <th></th>\n",
       "      <th>text</th>\n",
       "      <th>text_processed</th>\n",
       "    </tr>\n",
       "  </thead>\n",
       "  <tbody>\n",
       "    <tr>\n",
       "      <th>50768</th>\n",
       "      <td>Un paraíso</td>\n",
       "      <td>paraiso</td>\n",
       "    </tr>\n",
       "    <tr>\n",
       "      <th>30280</th>\n",
       "      <td>Además disponen de una terraza con piscina par...</td>\n",
       "      <td>ademas disponen terraza piscina poder mitigar ...</td>\n",
       "    </tr>\n",
       "    <tr>\n",
       "      <th>18218</th>\n",
       "      <td>gracias Diego,gracias Juan y gracias Mujer peg...</td>\n",
       "      <td>gracias diegogracias juan gracias mujer pegada...</td>\n",
       "    </tr>\n",
       "  </tbody>\n",
       "</table>\n",
       "</div>"
      ],
      "text/plain": [
       "                                                    text  \\\n",
       "50768                                         Un paraíso   \n",
       "30280  Además disponen de una terraza con piscina par...   \n",
       "18218  gracias Diego,gracias Juan y gracias Mujer peg...   \n",
       "\n",
       "                                          text_processed  \n",
       "50768                                            paraiso  \n",
       "30280  ademas disponen terraza piscina poder mitigar ...  \n",
       "18218  gracias diegogracias juan gracias mujer pegada...  "
      ]
     },
     "execution_count": 54,
     "metadata": {},
     "output_type": "execute_result"
    }
   ],
   "source": [
    "df_sentences_5_stars.sample(3)"
   ]
  },
  {
   "cell_type": "code",
   "execution_count": 56,
   "metadata": {},
   "outputs": [],
   "source": [
    "# Agregar columna para indicar sentimiento\n",
    "df_sentences_1_star['label'] = 0\n",
    "df_sentences_5_stars['label'] = 1"
   ]
  },
  {
   "cell_type": "code",
   "execution_count": 57,
   "metadata": {},
   "outputs": [],
   "source": [
    "# Combinar en un solo df las oraciones positivas y negativas\n",
    "df_sentences_labeled = pd.concat([df_sentences_1_star, df_sentences_5_stars])"
   ]
  },
  {
   "cell_type": "markdown",
   "metadata": {},
   "source": [
    "##### Construcción del modelo para clasificar oraciones"
   ]
  },
  {
   "cell_type": "code",
   "execution_count": 58,
   "metadata": {},
   "outputs": [],
   "source": [
    "X = df_sentences_labeled['text_processed']\n",
    "y = df_sentences_labeled['label']"
   ]
  },
  {
   "cell_type": "code",
   "execution_count": 59,
   "metadata": {},
   "outputs": [],
   "source": [
    "X_train, X_val, y_train, y_val = train_test_split(X, y, stratify=y, random_state=12)"
   ]
  },
  {
   "cell_type": "code",
   "execution_count": 60,
   "metadata": {},
   "outputs": [],
   "source": [
    "vec = CountVectorizer()\n",
    "\n",
    "X_train = vec.fit_transform(X_train.values.astype('U')).toarray()\n",
    "X_val = vec.transform(X_val.values.astype('U')).toarray()"
   ]
  },
  {
   "cell_type": "code",
   "execution_count": 61,
   "metadata": {},
   "outputs": [],
   "source": [
    "classifier = svm.SVC(C=1.0, kernel='linear', gamma='auto')"
   ]
  },
  {
   "cell_type": "code",
   "execution_count": 62,
   "metadata": {},
   "outputs": [],
   "source": [
    "classifier.fit(X_train, y_train)"
   ]
  },
  {
   "cell_type": "code",
   "execution_count": null,
   "metadata": {},
   "outputs": [],
   "source": [
    "predictions_train = classifier.predict(X_train)\n",
    "\n",
    "print('Train:')\n",
    "print(classification_report(y_train, predictions_train))"
   ]
  },
  {
   "cell_type": "code",
   "execution_count": null,
   "metadata": {},
   "outputs": [],
   "source": [
    "predictions_val = classifier.predict(X_val)\n",
    "\n",
    "print('Val:')\n",
    "print(classification_report(y_val, predictions_val))"
   ]
  },
  {
   "cell_type": "code",
   "execution_count": 53,
   "metadata": {},
   "outputs": [
    {
     "name": "stdout",
     "output_type": "stream",
     "text": [
      "Fitting 5 folds for each of 36 candidates, totalling 180 fits\n"
     ]
    }
   ],
   "source": [
    "# Búsqueda de hiperparámetros\n",
    "param_grid = {'C': [0.1, 1, 10], 'gamma': [1, 0.1 , 0.01], 'kernel': ['linear', 'rbf', 'poly', 'sigmoid']}\n",
    "\n",
    "grid = GridSearchCV(SVC(random_state=1234), param_grid, verbose=2)\n",
    "grid.fit(X_train, y_train)"
   ]
  }
 ],
 "metadata": {
  "kernelspec": {
   "display_name": "Python 3.8.13 64-bit ('3.8.13')",
   "language": "python",
   "name": "python3"
  },
  "language_info": {
   "codemirror_mode": {
    "name": "ipython",
    "version": 3
   },
   "file_extension": ".py",
   "mimetype": "text/x-python",
   "name": "python",
   "nbconvert_exporter": "python",
   "pygments_lexer": "ipython3",
   "version": "3.8.13"
  },
  "orig_nbformat": 4,
  "vscode": {
   "interpreter": {
    "hash": "110cc1dee26208153f2972f08a2ad52b6a56238dc66d48e87fb757ef2996db56"
   }
  }
 },
 "nbformat": 4,
 "nbformat_minor": 2
}
